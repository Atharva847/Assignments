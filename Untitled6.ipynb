{
 "cells": [
  {
   "cell_type": "markdown",
   "id": "7f8a1a41-dfed-43e4-b2e9-3b80da34f40b",
   "metadata": {},
   "source": [
    "Q1. What is multiprocessing in Python? Why is it useful?"
   ]
  },
  {
   "cell_type": "code",
   "execution_count": null,
   "id": "e0190565-a283-47ee-af1a-7d66e524dffa",
   "metadata": {},
   "outputs": [],
   "source": [
    "'''\n",
    "Multiprocessing in Python refers to the concurrent execution of multiple processes, where each process runs independently with its own memory space. \n",
    "This allows a program to leverage multiple CPU cores to perform parallel computations.\n",
    "\n",
    "Why it is useful:\n",
    "\n",
    "True Parallelism: Unlike multithreading in Python, which is limited by the Global Interpreter Lock (GIL), multiprocessing can fully utilize multiple \n",
    "CPU cores.\n",
    "Improved Performance: For CPU-bound tasks, multiprocessing can significantly speed up computations by distributing the workload across multiple \n",
    "processes.\n",
    "Isolation: Each process has its own memory space, reducing the risk of shared data corruption and making it easier to manage state and avoid conflicts.\n",
    "'''"
   ]
  },
  {
   "cell_type": "markdown",
   "id": "568a8927-de41-47e9-bc87-2e8d0f448d21",
   "metadata": {},
   "source": [
    "Q2. What are the differences between multiprocessing and multithreading?\n"
   ]
  },
  {
   "cell_type": "code",
   "execution_count": null,
   "id": "ee8c434c-4d23-48e3-a45d-269b05426183",
   "metadata": {},
   "outputs": [],
   "source": [
    "'''\n",
    "Feature  \tMultiprocessing\t     Multithreading\n",
    "Execution\tMultiple processes\tMultiple threads within a single process\n",
    "Memory Space\tSeparate memory space for each process\tShared memory space\n",
    "GIL\tNot affected by GIL\tAffected by GIL in CPython\n",
    "Overhead\tHigher (due to separate memory)\tLower (shared memory)\n",
    "Communication\tRequires inter-process communication (IPC)\tEasier due to shared memory\n",
    "Use Case\tCPU-bound tasks\tI/O-bound tasks\n",
    "Isolation\tHigh (processes are independent)\tLow (threads share memory)\n",
    "'''"
   ]
  },
  {
   "cell_type": "markdown",
   "id": "9a56c8f7-784d-4c7e-996f-f07ab812b7c6",
   "metadata": {},
   "source": [
    "Q3. Write a Python code to create a process using the multiprocessing module."
   ]
  },
  {
   "cell_type": "code",
   "execution_count": null,
   "id": "ec1187d5-dcc8-4afc-a216-00af713c1ea0",
   "metadata": {},
   "outputs": [],
   "source": [
    "import multiprocessing\n",
    "\n",
    "def worker():\n",
    "    print(\"Worker process is running\")\n",
    "\n",
    "if __name__ == \"__main__\":\n",
    "    process = multiprocessing.Process(target=worker)\n",
    "    process.start()\n",
    "    process.join()\n"
   ]
  },
  {
   "cell_type": "markdown",
   "id": "37cb1610-a34c-4d12-9a8a-597975486c82",
   "metadata": {},
   "source": [
    "Q4. What is a multiprocessing pool in Python? Why is it used?\n"
   ]
  },
  {
   "cell_type": "code",
   "execution_count": null,
   "id": "49eebbf3-07ea-48ab-bf7b-1188b16d921e",
   "metadata": {},
   "outputs": [],
   "source": [
    "'''\n",
    "A multiprocessing pool is a collection of worker processes that can be used to parallelize the execution of a function across multiple input\n",
    "values, distributing the input data across processes (data parallelism).\n",
    "\n",
    "Why it is used:\n",
    "\n",
    "Simplifies Process Management: The pool automatically manages the processes, making it easier to execute parallel tasks.\n",
    "Efficient Resource Usage: Pools efficiently use available CPU cores and manage the distribution of tasks to minimize idle time.\n",
    "Convenience: Pools provide high-level methods for parallel execution, reducing the need for manual process creation and management.\n",
    "'''"
   ]
  },
  {
   "cell_type": "markdown",
   "id": "cab5ac40-799e-447a-911c-25f824671af2",
   "metadata": {},
   "source": [
    "Q5. How can we create a pool of worker processes in Python using the multiprocessing module?"
   ]
  },
  {
   "cell_type": "code",
   "execution_count": null,
   "id": "bc230700-d9f8-4479-ad0e-a60fb0e1eca6",
   "metadata": {},
   "outputs": [],
   "source": [
    "import multiprocessing\n",
    "\n",
    "def worker(x):\n",
    "    return x * x\n",
    "\n",
    "if __name__ == \"__main__\":\n",
    "    with multiprocessing.Pool(processes=4) as pool:\n",
    "        results = pool.map(worker, [1, 2, 3, 4, 5])\n",
    "        print(results)\n"
   ]
  },
  {
   "cell_type": "markdown",
   "id": "5bae4c1e-6e92-401d-a623-303101568550",
   "metadata": {},
   "source": [
    "Q6. Write a Python program to create 4 processes, each process should print a different number using the multiprocessing module in Python."
   ]
  },
  {
   "cell_type": "code",
   "execution_count": null,
   "id": "1157a25c-f212-4453-bdb6-b0ec726aac1b",
   "metadata": {},
   "outputs": [],
   "source": [
    "import multiprocessing\n",
    "\n",
    "def print_number(number):\n",
    "    print(f\"Process {multiprocessing.current_process().name} prints: {number}\")\n",
    "\n",
    "if __name__ == \"__main__\":\n",
    "    numbers = [1, 2, 3, 4]\n",
    "    processes = []\n",
    "\n",
    "    for number in numbers:\n",
    "        process = multiprocessing.Process(target=print_number, args=(number,))\n",
    "        processes.append(process)\n",
    "        process.start()\n",
    "\n",
    "    for process in processes:\n",
    "        process.join()\n"
   ]
  },
  {
   "cell_type": "code",
   "execution_count": null,
   "id": "e2a78f75-c89b-42a5-8a7c-cd6cc573fa8b",
   "metadata": {},
   "outputs": [],
   "source": []
  }
 ],
 "metadata": {
  "kernelspec": {
   "display_name": "Python 3 (ipykernel)",
   "language": "python",
   "name": "python3"
  },
  "language_info": {
   "codemirror_mode": {
    "name": "ipython",
    "version": 3
   },
   "file_extension": ".py",
   "mimetype": "text/x-python",
   "name": "python",
   "nbconvert_exporter": "python",
   "pygments_lexer": "ipython3",
   "version": "3.10.8"
  }
 },
 "nbformat": 4,
 "nbformat_minor": 5
}
