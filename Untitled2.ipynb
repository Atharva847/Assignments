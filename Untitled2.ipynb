{
 "cells": [
  {
   "cell_type": "markdown",
   "id": "8c099690-c87d-47b6-9fc6-b20309666ff4",
   "metadata": {},
   "source": [
    "Q1. How do you comment code in Python? What are the different types of comments?"
   ]
  },
  {
   "cell_type": "code",
   "execution_count": 2,
   "id": "a1891ea9-54f9-4c7a-bc55-cfee72c73457",
   "metadata": {},
   "outputs": [
    {
     "name": "stdout",
     "output_type": "stream",
     "text": [
      "Hello, world!\n",
      "Hello, world!\n"
     ]
    }
   ],
   "source": [
    "#Single-line comments: begin with the hash symbol \n",
    "#) and extend to the end of the line. Any text after the hash symbol is ignored by the Python interpreter.\n",
    "#For example:\n",
    "# This is a single-line comment.\n",
    "print(\"Hello, world!\")\n",
    "    \n",
    "'''\n",
    "This is a multi-line comment.\n",
    "\n",
    "It can span multiple lines.\n",
    "'''\n",
    "\n",
    "print(\"Hello, world!\")\n"
   ]
  },
  {
   "cell_type": "markdown",
   "id": "67ab3ea3-908a-4874-ae76-72ed4fbd2d9b",
   "metadata": {},
   "source": [
    "Q2. What are variables in Python? How do you declare and assign values to variables?"
   ]
  },
  {
   "cell_type": "code",
   "execution_count": 3,
   "id": "9e1549da-1942-4ac3-b548-474e829a04d2",
   "metadata": {},
   "outputs": [
    {
     "name": "stdout",
     "output_type": "stream",
     "text": [
      "5\n"
     ]
    }
   ],
   "source": [
    "''' In Python, a variable is a name that refers to a specific object. You can create a variable by assigning it a value. For example,\n",
    "the following code creates a \n",
    "variable named x and assigns it the value 5:\n",
    "    \n",
    "'''\n",
    "x = 5\n",
    "print(x)"
   ]
  },
  {
   "cell_type": "markdown",
   "id": "d3ea1890-4ffb-4131-8e29-1181206be1b9",
   "metadata": {},
   "source": [
    "Q3. How do you convert one data type to another in Python?"
   ]
  },
  {
   "cell_type": "code",
   "execution_count": 4,
   "id": "93b71d29-723c-4c45-a4da-7dd7358b5c61",
   "metadata": {},
   "outputs": [
    {
     "name": "stdout",
     "output_type": "stream",
     "text": [
      "4.0\n"
     ]
    }
   ],
   "source": [
    "'''\n",
    "There are two ways to convert data types in Python: implicit and explicit.\n",
    "Implicit type conversion is when Python automatically converts one data type to another. This happens when you use an operator on two values \n",
    "of different types. For example, if you add an integer and a float, Python will automatically convert the integer to a float before performing \n",
    "the addition.\n",
    "\n",
    "Explicit type conversion is when you explicitly tell Python to convert one data type to another. This is done using the built-in functions\n",
    "int(), float(), and str().\n",
    "'''\n",
    "a = 4\n",
    "print(float(a))\n"
   ]
  },
  {
   "cell_type": "markdown",
   "id": "92f9c6b5-0de5-45d9-b7f7-9d63f339fddc",
   "metadata": {},
   "source": [
    "Q4. How do you write and execute a Python script from the command line?"
   ]
  },
  {
   "cell_type": "code",
   "execution_count": null,
   "id": "a7603317-dcde-4f9a-a32d-810ce1df6778",
   "metadata": {},
   "outputs": [],
   "source": [
    "'''\n",
    "To write a Python script from the command line, you can use any text editor of your choice and run it from the command line using the \n",
    "python command. Unlike the interactive mode, your code sits in a dedicated Python file with a .py extension. To run a Python file with\n",
    "the python command, you need to open a command-line window and type in the word python followed by the path to your target script:\n",
    "python script_name.py\n",
    "'''"
   ]
  },
  {
   "cell_type": "markdown",
   "id": "89dbec40-9346-4b9f-9c0c-ee0fde73ef57",
   "metadata": {},
   "source": [
    "Q5. Given a list my_list = [1, 2, 3, 4, 5], write the code to slice the list and obtain the sub-list [2, 3]."
   ]
  },
  {
   "cell_type": "code",
   "execution_count": 6,
   "id": "855680d9-b5fa-41b8-bef2-bb23ef72057a",
   "metadata": {},
   "outputs": [
    {
     "data": {
      "text/plain": [
       "[2, 3]"
      ]
     },
     "execution_count": 6,
     "metadata": {},
     "output_type": "execute_result"
    }
   ],
   "source": [
    "my_list = [1, 2, 3, 4, 5]\n",
    "my_list[1:3]"
   ]
  },
  {
   "cell_type": "markdown",
   "id": "7c18caa0-3e97-4038-9947-73a1d05640c0",
   "metadata": {},
   "source": [
    "Q6. What is a complex number in mathematics, and how is it represented in Python?"
   ]
  },
  {
   "cell_type": "code",
   "execution_count": 7,
   "id": "a79075e7-baa1-4ede-bd0e-bbfb3f87280b",
   "metadata": {},
   "outputs": [
    {
     "data": {
      "text/plain": [
       "(1+2j)"
      ]
     },
     "execution_count": 7,
     "metadata": {},
     "output_type": "execute_result"
    }
   ],
   "source": [
    "'''\n",
    "A complex number is a number that can be expressed in the form a + bi, where a and b are real numbers and i is the imaginary unit, \n",
    "which is defined as the square root of −1. Complex numbers can be used to represent a variety of mathematical concepts, including\n",
    "electromagnetic waves, electric currents, and quantum states.\n",
    "In Python, complex numbers are represented using the complex() constructor. The complex() constructor takes two arguments: \n",
    "the real part of the complex number and the imaginary part of the complex number. For example, the following code creates a complex \n",
    "number with a real part of 1 and an imaginary part of 2:\n",
    "'''\n",
    "z = complex(1, 2)\n",
    "z"
   ]
  },
  {
   "cell_type": "markdown",
   "id": "c60b593c-fa19-47bd-8e0a-caaa3940dbc6",
   "metadata": {},
   "source": [
    "Q7. What is the correct way to declare a variable named age and assign the value 25 to it?"
   ]
  },
  {
   "cell_type": "code",
   "execution_count": 9,
   "id": "81cfdfc5-6f5e-4338-873b-3311b1d446f1",
   "metadata": {},
   "outputs": [
    {
     "data": {
      "text/plain": [
       "25"
      ]
     },
     "execution_count": 9,
     "metadata": {},
     "output_type": "execute_result"
    }
   ],
   "source": [
    "age = 25\n",
    "age"
   ]
  },
  {
   "cell_type": "markdown",
   "id": "f8ecad68-316d-4949-8f8a-6e6162c6cb85",
   "metadata": {},
   "source": [
    "Q8. Declare a variable named price and assign the value 9.99 to it. What data type does this variable\n",
    "belong to?"
   ]
  },
  {
   "cell_type": "code",
   "execution_count": 10,
   "id": "30dfb6b2-e62c-48f5-9eae-91f078deff3c",
   "metadata": {},
   "outputs": [
    {
     "data": {
      "text/plain": [
       "float"
      ]
     },
     "execution_count": 10,
     "metadata": {},
     "output_type": "execute_result"
    }
   ],
   "source": [
    "price = 9.99\n",
    "type(price)"
   ]
  },
  {
   "cell_type": "markdown",
   "id": "864a1a0d-2adc-4e81-aee9-88b589e36995",
   "metadata": {},
   "source": [
    "Q9. Create a variable named name and assign your full name to it as a string. How would you print the\n",
    "value of this variable?"
   ]
  },
  {
   "cell_type": "code",
   "execution_count": 11,
   "id": "dd601c8e-5d90-4cbe-8828-2a0c9c12a061",
   "metadata": {},
   "outputs": [
    {
     "data": {
      "text/plain": [
       "' Abc ab bc '"
      ]
     },
     "execution_count": 11,
     "metadata": {},
     "output_type": "execute_result"
    }
   ],
   "source": [
    "name = \" Abc ab bc \"\n",
    "name"
   ]
  },
  {
   "cell_type": "markdown",
   "id": "3bd189fc-97b0-46d0-a248-cc61749c8240",
   "metadata": {},
   "source": [
    "Q10. Given the string \"Hello, World!\", extract the substring \"World\"."
   ]
  },
  {
   "cell_type": "code",
   "execution_count": 15,
   "id": "edace868-aaaa-4466-8cb0-0f148b13d7cf",
   "metadata": {},
   "outputs": [
    {
     "data": {
      "text/plain": [
       "'World'"
      ]
     },
     "execution_count": 15,
     "metadata": {},
     "output_type": "execute_result"
    }
   ],
   "source": [
    "a = \"Hello, World!\"\n",
    "a[7:12]"
   ]
  },
  {
   "cell_type": "markdown",
   "id": "e75bda15-9940-4c29-bd44-f4c8e41f001d",
   "metadata": {},
   "source": [
    "Q11. Create a variable named \"is_student\" and assign it a boolean value indicating whether you are\n",
    "currently a student or not."
   ]
  },
  {
   "cell_type": "code",
   "execution_count": null,
   "id": "dce81604-3b53-4c97-ae98-e3b4d7395082",
   "metadata": {},
   "outputs": [],
   "source": [
    "is_student = "
   ]
  }
 ],
 "metadata": {
  "kernelspec": {
   "display_name": "Python 3 (ipykernel)",
   "language": "python",
   "name": "python3"
  },
  "language_info": {
   "codemirror_mode": {
    "name": "ipython",
    "version": 3
   },
   "file_extension": ".py",
   "mimetype": "text/x-python",
   "name": "python",
   "nbconvert_exporter": "python",
   "pygments_lexer": "ipython3",
   "version": "3.10.8"
  }
 },
 "nbformat": 4,
 "nbformat_minor": 5
}
