{
 "cells": [
  {
   "cell_type": "markdown",
   "id": "3e5812c1-1caa-41f3-92fb-93f13fbd6a25",
   "metadata": {},
   "source": [
    "Q1. Is there any difference in the data type of variables list_ and array_list? If there is then write a code to print the data types of both the variables."
   ]
  },
  {
   "cell_type": "code",
   "execution_count": null,
   "id": "ccdb70e7-c91e-445d-8c8b-73c8afd3de7b",
   "metadata": {},
   "outputs": [],
   "source": [
    "'''\n",
    "Yes, there is a difference in the data types of list_ and array_list. list_ is a Python list, while array_list is a NumPy array.\n",
    "'''\n",
    "import numpy as np\n",
    "\n",
    "list_ = ['1', '2', '3', '4', '5']\n",
    "array_list = np.array(object=list_)\n",
    "\n",
    "# Printing the data types\n",
    "print(\"Data type of list_:\", type(list_))\n",
    "print(\"Data type of array_list:\", type(array_list))\n"
   ]
  },
  {
   "cell_type": "markdown",
   "id": "0c0cfc62-590c-48ee-ae4f-250508baf0d8",
   "metadata": {},
   "source": [
    "Q2. Write a code to print the data type of each and every element of both the variables list_ and array_list."
   ]
  },
  {
   "cell_type": "code",
   "execution_count": null,
   "id": "1cc4cd2b-f4cd-4661-b244-35a2f0a850ea",
   "metadata": {},
   "outputs": [],
   "source": [
    "# Printing the data types of each element in list_\n",
    "print(\"Data types in list_:\")\n",
    "for element in list_:\n",
    "    print(type(element))\n",
    "\n",
    "# Printing the data types of each element in array_list\n",
    "print(\"\\nData types in array_list:\")\n",
    "for element in array_list:\n",
    "    print(type(element))\n"
   ]
  },
  {
   "cell_type": "markdown",
   "id": "cb7660ac-9437-4602-ba9a-84e330ae65e7",
   "metadata": {},
   "source": [
    "Q3. Considering the following changes in the variable array_list:"
   ]
  },
  {
   "cell_type": "code",
   "execution_count": null,
   "id": "58d56c52-aff3-4363-a62b-e612fa514e87",
   "metadata": {},
   "outputs": [],
   "source": [
    "array_list = np.array(object=list_, dtype=int)\n",
    "array_list = np.array(object=list_, dtype=int)\n",
    "\n",
    "# Printing the data types of each element in list_\n",
    "print(\"Data types in list_:\")\n",
    "for element in list_:\n",
    "    print(type(element))\n",
    "\n",
    "# Printing the data types of each element in array_list\n",
    "print(\"\\nData types in array_list:\")\n",
    "for element in array_list:\n",
    "    print(type(element))\n",
    "\n"
   ]
  },
  {
   "cell_type": "markdown",
   "id": "33b5054b-2a80-4865-92ff-9408bdf988b0",
   "metadata": {},
   "source": [
    "Q4. Write a code to find the following characteristics of the variable num_array:\n",
    "(i) shape\n",
    "(ii) size\n"
   ]
  },
  {
   "cell_type": "code",
   "execution_count": null,
   "id": "a5925ab0-8c23-44e1-a250-69fceb8f21a8",
   "metadata": {},
   "outputs": [],
   "source": [
    "import numpy as np\n",
    "\n",
    "num_list = [[1, 2, 3], [4, 5, 6]]\n",
    "num_array = np.array(object=num_list)\n",
    "\n",
    "# Finding the shape and size\n",
    "print(\"Shape of num_array:\", num_array.shape)\n",
    "print(\"Size of num_array:\", num_array.size)\n"
   ]
  },
  {
   "cell_type": "markdown",
   "id": "a2daee1f-6d7f-44b1-9266-1471a77793ea",
   "metadata": {},
   "source": [
    "Q5. Write a code to create a numpy array of a 3x3 matrix containing zeros only, using a numpy array creation function."
   ]
  },
  {
   "cell_type": "code",
   "execution_count": null,
   "id": "4ef16359-a46f-4f81-bf12-a5e775d92b34",
   "metadata": {},
   "outputs": [],
   "source": [
    "# Creating a 3x3 matrix of zeros\n",
    "zero_matrix = np.zeros((3, 3))\n",
    "print(\"3x3 matrix of zeros:\\n\", zero_matrix)\n"
   ]
  },
  {
   "cell_type": "markdown",
   "id": "5cb2289a-482b-4dc1-91e7-08e2a0df1aa3",
   "metadata": {},
   "source": [
    "Q6. Create an identity matrix of shape (5,5) using numpy functions.\n"
   ]
  },
  {
   "cell_type": "code",
   "execution_count": null,
   "id": "1bd86e11-2b5d-4eb3-9e01-c17459d71a97",
   "metadata": {},
   "outputs": [],
   "source": [
    "# Creating a 5x5 identity matrix\n",
    "identity_matrix = np.eye(5)\n",
    "print(\"5x5 identity matrix:\\n\", identity_matrix)\n"
   ]
  }
 ],
 "metadata": {
  "kernelspec": {
   "display_name": "Python 3 (ipykernel)",
   "language": "python",
   "name": "python3"
  },
  "language_info": {
   "codemirror_mode": {
    "name": "ipython",
    "version": 3
   },
   "file_extension": ".py",
   "mimetype": "text/x-python",
   "name": "python",
   "nbconvert_exporter": "python",
   "pygments_lexer": "ipython3",
   "version": "3.10.8"
  }
 },
 "nbformat": 4,
 "nbformat_minor": 5
}
