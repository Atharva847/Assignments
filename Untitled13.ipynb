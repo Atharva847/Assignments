{
 "cells": [
  {
   "cell_type": "markdown",
   "id": "491159f2-31f3-44c2-be78-f2255f012921",
   "metadata": {},
   "source": [
    "Q1. What are the three measures of central tendency?"
   ]
  },
  {
   "cell_type": "code",
   "execution_count": null,
   "id": "a57bbe0b-daa3-44eb-9321-def8f54836ed",
   "metadata": {},
   "outputs": [],
   "source": [
    "'''\n",
    "The three measures of central tendency are:\n",
    "\n",
    "Mean\n",
    "Median\n",
    "Mode\n",
    "\n",
    "'''"
   ]
  },
  {
   "cell_type": "markdown",
   "id": "f504be32-af9c-4365-b4e3-465596d086ac",
   "metadata": {},
   "source": [
    "Q2. What is the difference between the mean, median, and mode? How are they used to measure the central tendency of a dataset?"
   ]
  },
  {
   "cell_type": "code",
   "execution_count": null,
   "id": "d51eeb3c-75d6-4d27-aca7-ed98c593cb07",
   "metadata": {},
   "outputs": [],
   "source": [
    "'''\n",
    "Mean: The mean is the average of all data points. It is calculated by summing all the values and dividing by the number of values. \n",
    "It is used to measure the central point of a dataset, especially when the data is symmetrically distributed.\n",
    "\n",
    "Median: The median is the middle value when the data points are arranged in ascending or descending order. If the number of observations \n",
    "is even, it is the average of the two middle numbers. It is useful for skewed distributions as it is not affected by outliers.\n",
    "\n",
    "Mode: The mode is the value that occurs most frequently in the dataset. A dataset may have one mode, more than one mode, or no mode at all. \n",
    "It is used to identify the most common value in a dataset.\n",
    "'''"
   ]
  },
  {
   "cell_type": "markdown",
   "id": "5cf26e9a-ec4d-4a0b-932e-b5afec83e907",
   "metadata": {},
   "source": [
    "Q3. Measure the three measures of central tendency for the given height data:"
   ]
  },
  {
   "cell_type": "code",
   "execution_count": null,
   "id": "faf3ba49-e9fd-46e6-b1bf-5af739ed769e",
   "metadata": {},
   "outputs": [],
   "source": [
    "'''\n",
    "Let's calculate the mean, median, and mode.\n",
    "\n",
    "Mean:\n",
    "\n",
    "Mean\n",
    "=\n",
    "∑\n",
    "Heights\n",
    "Number of Heights\n",
    "Mean= \n",
    "Number of Heights\n",
    "∑Heights\n",
    "​\n",
    " \n",
    "\n",
    "Median:\n",
    "\n",
    "Arrange the data in ascending order and find the middle value.\n",
    "\n",
    "Mode:\n",
    "\n",
    "Find the value that appears most frequently.\n",
    "'''"
   ]
  },
  {
   "cell_type": "markdown",
   "id": "ab784834-7dca-4935-b5de-7955db78994f",
   "metadata": {},
   "source": [
    "How are measures of dispersion such as range, variance, and standard deviation used to describe the spread of a dataset? Provide an example."
   ]
  },
  {
   "cell_type": "code",
   "execution_count": null,
   "id": "0e87b00a-b740-44f7-add8-863f10d0bcc7",
   "metadata": {},
   "outputs": [],
   "source": [
    "'''\n",
    "Range: The difference between the maximum and minimum values in a dataset. It gives a crude measure of dispersion.\n",
    "\n",
    "Variance: The average of the squared differences from the mean. It provides a measure of how much the data points spread out from the mean.\n",
    "\n",
    "Standard Deviation: The square root of the variance. It is in the same unit as the data and provides a measure of the average distance \n",
    "from the mean.\n",
    "Example: For a dataset of exam scores, the range, variance, and standard deviation help understand the consistency of the students' \n",
    "performance.\n",
    "'''"
   ]
  },
  {
   "cell_type": "markdown",
   "id": "24b2a87b-4d15-4591-9153-781c472c43da",
   "metadata": {},
   "source": [
    "Q6. What is a Venn diagram?"
   ]
  },
  {
   "cell_type": "code",
   "execution_count": null,
   "id": "f7975f6e-8c8a-4459-8575-b53dd20b55ef",
   "metadata": {},
   "outputs": [],
   "source": [
    "'''\n",
    "A Venn diagram is a graphical representation of sets. It uses circles to show the relationships among different sets. \n",
    "The overlapping areas represent the intersections of the sets, while the non-overlapping areas represent the unique elements of each set.\n",
    "'''"
   ]
  },
  {
   "cell_type": "markdown",
   "id": "ee0164ca-9a46-430d-a08e-34d86325ede6",
   "metadata": {},
   "source": [
    "Q8. What do you understand about skewness in data?\n"
   ]
  },
  {
   "cell_type": "code",
   "execution_count": null,
   "id": "e3e86281-d927-4bb7-bf08-e65f9ee20ae6",
   "metadata": {},
   "outputs": [],
   "source": [
    "'''\n",
    "Skewness is a measure of the asymmetry of the probability distribution of a real-valued random variable about its mean.\n",
    "\n",
    "Positive Skew (Right Skew): The tail on the right side is longer or fatter than the left side. The mean is greater than the median.\n",
    "\n",
    "Negative Skew (Left Skew): The tail on the left side is longer or fatter than the right side. The mean is less than the median.\n",
    "'''"
   ]
  },
  {
   "cell_type": "markdown",
   "id": "508e44ec-f073-4df5-87f9-17909ca63123",
   "metadata": {},
   "source": [
    "Q9. If a data is right skewed then what will be the position of median with respect to mean?"
   ]
  },
  {
   "cell_type": "code",
   "execution_count": null,
   "id": "8420d745-fc44-4721-abf0-ce58e5733152",
   "metadata": {},
   "outputs": [],
   "source": [
    "'''\n",
    "In a right-skewed distribution, the mean is greater than the median. Therefore, the median will be positioned to the left of the mean.\n",
    "'''"
   ]
  },
  {
   "cell_type": "markdown",
   "id": "deede507-052b-46d0-9e78-60aeee5afa2c",
   "metadata": {},
   "source": [
    "Q10. Explain the difference between covariance and correlation. How are these measures used in statistical analysis?"
   ]
  },
  {
   "cell_type": "code",
   "execution_count": null,
   "id": "79949e93-9368-4595-9260-470a20b0981c",
   "metadata": {},
   "outputs": [],
   "source": [
    "'''\n",
    "Covariance: Measures the degree to which two variables change together. It can take any value and is sensitive to the scale of the \n",
    "variables.\n",
    "\n",
    "Correlation: Standardized form of covariance that measures the strength and direction of the linear relationship between two variables. \n",
    "It ranges from\n",
    "'''"
   ]
  },
  {
   "cell_type": "markdown",
   "id": "15455bb9-3488-4d75-ba8a-132f63eb0247",
   "metadata": {},
   "source": [
    "Q11. What is the formula for calculating the sample mean? Provide an example calculation for a dataset."
   ]
  },
  {
   "cell_type": "code",
   "execution_count": null,
   "id": "cedc1cba-241b-4a80-a26e-9594a7eb5c54",
   "metadata": {},
   "outputs": [],
   "source": [
    "'''\n",
    "The formula for calculating the sample mean (\n",
    "𝑥\n",
    "ˉ\n",
    "x\n",
    "ˉ\n",
    " ) is:\n",
    "\n",
    "𝑥\n",
    "ˉ\n",
    "=\n",
    "1\n",
    "𝑛\n",
    "∑\n",
    "𝑖\n",
    "=\n",
    "1\n",
    "𝑛\n",
    "𝑥\n",
    "𝑖\n",
    "x\n",
    "ˉ\n",
    " = \n",
    "n\n",
    "1\n",
    "​\n",
    "  \n",
    "i=1\n",
    "∑\n",
    "n\n",
    "​\n",
    " x \n",
    "i\n",
    "​\n",
    " \n",
    "where \n",
    "𝑥\n",
    "𝑖\n",
    "x \n",
    "i\n",
    "​\n",
    "  are the data points and \n",
    "𝑛\n",
    "n is the number of data points.\n",
    "\n",
    "Example Calculation:\n",
    "\n",
    "Let's calculate the sample mean for the dataset: [5, 10, 15, 20, 25]\n",
    "\n",
    "𝑥\n",
    "ˉ\n",
    "=\n",
    "1\n",
    "5\n",
    "(\n",
    "5\n",
    "+\n",
    "10\n",
    "+\n",
    "15\n",
    "+\n",
    "20\n",
    "+\n",
    "25\n",
    ")\n",
    "=\n",
    "1\n",
    "5\n",
    "×\n",
    "75\n",
    "=\n",
    "15\n",
    "x\n",
    "ˉ\n",
    " = \n",
    "5\n",
    "1\n",
    "​\n",
    " (5+10+15+20+25)= \n",
    "5\n",
    "1\n",
    "​\n",
    " ×75=15\n",
    " '''"
   ]
  },
  {
   "cell_type": "markdown",
   "id": "eb6b0efd-d8e1-4dcd-b9c1-c7c70c063d22",
   "metadata": {},
   "source": [
    "Q12. For a normal distribution data, what is the relationship between its measure of central tendency?"
   ]
  },
  {
   "cell_type": "code",
   "execution_count": null,
   "id": "3820a2a8-601c-44bc-ac37-664f473162cd",
   "metadata": {},
   "outputs": [],
   "source": [
    "'''\n",
    "In a normal distribution, the mean, median, and mode are all equal. This is because a normal distribution is perfectly symmetrical \n",
    "around its center.\n",
    "'''"
   ]
  },
  {
   "cell_type": "markdown",
   "id": "8cc4180d-3330-4dd2-8523-68391b020192",
   "metadata": {},
   "source": [
    "Q13. How is covariance different from correlation?"
   ]
  },
  {
   "cell_type": "code",
   "execution_count": null,
   "id": "7ab7874c-bc0b-4048-9d7b-d63261d93ae5",
   "metadata": {},
   "outputs": [],
   "source": [
    "'''\n",
    "Covariance: Covariance measures the directional relationship between two variables. It indicates whether the variables tend to \n",
    "increase or decrease together. However, it does not provide information about the strength of the relationship.\n",
    "\n",
    "Correlation: Correlation measures both the strength and direction of the linear relationship between two variables. \n",
    "It is a normalized version of covariance and is dimensionless,\n",
    "ranging from -1 to 1.\n",
    "'''"
   ]
  },
  {
   "cell_type": "code",
   "execution_count": null,
   "id": "9070955e-cef4-4ac4-878b-092d3124a82b",
   "metadata": {},
   "outputs": [],
   "source": [
    "Q14. How do outliers affect measures of central tendency and dispersion? Provide an example."
   ]
  }
 ],
 "metadata": {
  "kernelspec": {
   "display_name": "Python 3 (ipykernel)",
   "language": "python",
   "name": "python3"
  },
  "language_info": {
   "codemirror_mode": {
    "name": "ipython",
    "version": 3
   },
   "file_extension": ".py",
   "mimetype": "text/x-python",
   "name": "python",
   "nbconvert_exporter": "python",
   "pygments_lexer": "ipython3",
   "version": "3.10.8"
  }
 },
 "nbformat": 4,
 "nbformat_minor": 5
}
