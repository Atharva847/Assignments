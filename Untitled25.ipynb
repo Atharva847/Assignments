{
 "cells": [
  {
   "cell_type": "code",
   "execution_count": null,
   "id": "acb1f976-c694-428c-9c91-4595ccdb0d54",
   "metadata": {},
   "outputs": [],
   "source": [
    "''' Q1. Import the Dataset and Examine the Variables'''\n",
    "import pandas as pd\n",
    "import seaborn as sns\n",
    "import matplotlib.pyplot as plt\n",
    "\n",
    "# Load the dataset\n",
    "df = pd.read_csv('diabetes.csv')\n",
    "\n",
    "# Examine the first few rows\n",
    "print(df.head())\n",
    "\n",
    "# Descriptive statistics\n",
    "print(df.describe())\n",
    "\n",
    "# Check for missing values\n",
    "print(df.isnull().sum())\n",
    "\n",
    "# Visualizations\n",
    "sns.histplot(df['Glucose'], kde=True)\n",
    "plt.show()\n",
    "\n",
    "sns.boxplot(x='Outcome', y='BMI', data=df)\n",
    "plt.show()\n",
    "\n",
    "# Correlation matrix\n",
    "corr_matrix = df.corr()\n",
    "sns.heatmap(corr_matrix, annot=True, cmap='coolwarm')\n",
    "plt.show()\n"
   ]
  },
  {
   "cell_type": "code",
   "execution_count": null,
   "id": "4c9bc1cf-2919-48d7-8e51-5aace0a8b8f8",
   "metadata": {},
   "outputs": [],
   "source": [
    "\"Q2. Preprocess the Data\"\n",
    "# Handling missing values\n",
    "df = df.fillna(df.median())  # or use more sophisticated imputation methods\n",
    "\n",
    "# Detecting outliers using IQR\n",
    "Q1 = df.quantile(0.25)\n",
    "Q3 = df.quantile(0.75)\n",
    "IQR = Q3 - Q1\n",
    "df = df[~((df < (Q1 - 1.5 * IQR)) | (df > (Q3 + 1.5 * IQR))).any(axis=1)]\n",
    "\n",
    "# No categorical variables, so no need for one-hot encoding\n"
   ]
  },
  {
   "cell_type": "code",
   "execution_count": null,
   "id": "60c6ff59-e141-432d-8ad9-dd02cafd581b",
   "metadata": {},
   "outputs": [],
   "source": [
    "\"Q3. Split the Dataset into a Training Set and a Test Set\"\n",
    "from sklearn.model_selection import train_test_split\n",
    "\n",
    "# Split the data\n",
    "X = df.drop('Outcome', axis=1)\n",
    "y = df['Outcome']\n",
    "X_train, X_test, y_train, y_test = train_test_split(X, y, test_size=0.3, random_state=42)\n"
   ]
  },
  {
   "cell_type": "code",
   "execution_count": null,
   "id": "ddc92c7f-8ad3-4651-9359-ace022c27a4d",
   "metadata": {},
   "outputs": [],
   "source": [
    "\"Q4. Train a Decision Tree Model\"\n",
    "from sklearn.tree import DecisionTreeClassifier\n",
    "from sklearn.model_selection import GridSearchCV\n",
    "\n",
    "# Initialize the model\n",
    "dt = DecisionTreeClassifier(random_state=42)\n",
    "\n",
    "# Hyperparameter tuning using GridSearchCV\n",
    "param_grid = {\n",
    "    'max_depth': [3, 5, 7, 10],\n",
    "    'min_samples_split': [2, 5, 10],\n",
    "    'min_samples_leaf': [1, 2, 5]\n",
    "}\n",
    "\n",
    "grid_search = GridSearchCV(dt, param_grid, cv=5, scoring='accuracy')\n",
    "grid_search.fit(X_train, y_train)\n",
    "\n",
    "# Best parameters and model\n",
    "best_model = grid_search.best_estimator_\n",
    "print(f'Best Parameters: {grid_search.best_params_}')\n"
   ]
  },
  {
   "cell_type": "code",
   "execution_count": null,
   "id": "eb232dc1-a60c-4a4f-ae57-25076566ccfc",
   "metadata": {},
   "outputs": [],
   "source": []
  }
 ],
 "metadata": {
  "kernelspec": {
   "display_name": "Python 3 (ipykernel)",
   "language": "python",
   "name": "python3"
  },
  "language_info": {
   "codemirror_mode": {
    "name": "ipython",
    "version": 3
   },
   "file_extension": ".py",
   "mimetype": "text/x-python",
   "name": "python",
   "nbconvert_exporter": "python",
   "pygments_lexer": "ipython3",
   "version": "3.10.8"
  }
 },
 "nbformat": 4,
 "nbformat_minor": 5
}
