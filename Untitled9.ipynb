{
 "cells": [
  {
   "cell_type": "markdown",
   "id": "d06769fa-6c0f-40b6-9928-1c667faef3d7",
   "metadata": {},
   "source": [
    "Q1: What is Matplotlib? Why is it used? Name five plots that can be plotted using the Pyplot module of Matplotlib."
   ]
  },
  {
   "cell_type": "code",
   "execution_count": null,
   "id": "12ed5093-3ddf-479c-8d73-bc785882a9ef",
   "metadata": {},
   "outputs": [],
   "source": [
    "'''\n",
    "Matplotlib is a comprehensive library for creating static, animated, and interactive visualizations in Python. \n",
    "It is widely used in data science and analytics for its ability to produce publication-quality figures in a variety of formats and interactive environments across platforms. The pyplot module in Matplotlib provides a MATLAB-like interface for simple plotting.\n",
    "\n",
    "Uses of Matplotlib:\n",
    "\n",
    "Data visualization for exploratory data analysis (EDA).\n",
    "Generating plots and charts for reports and publications.\n",
    "Creating interactive plots for presentations and web applications.\n",
    "Visualizing data to identify patterns, trends, and correlations.\n",
    "Customizing plots with annotations, legends, and labels.\n",
    "Five plots that can be plotted using the Pyplot module:\n",
    "\n",
    "Line Plot: A graph that uses lines to connect individual data points.\n",
    "Scatter Plot: A graph that uses dots to represent individual data points.\n",
    "Bar Plot: A graph that uses bars to represent quantities.\n",
    "Histogram: A bar plot that represents the distribution of data.\n",
    "Pie Chart: A circular graph divided into slices to illustrate numerical proportions.\n",
    "'''"
   ]
  },
  {
   "cell_type": "markdown",
   "id": "637b5a9c-99e6-42e0-b887-021f79a0b30a",
   "metadata": {},
   "source": [
    "Q2: What is a scatter plot? Use the following code to generate data for x and y. Using this generated data"
   ]
  },
  {
   "cell_type": "code",
   "execution_count": null,
   "id": "6cf7334f-b7cd-4afc-80a2-420fce8695d8",
   "metadata": {},
   "outputs": [],
   "source": [
    "'''\n",
    "A scatter plot is a type of plot that shows the relationship between two variables using Cartesian coordinates.\n",
    "Each point represents an observation in the dataset.\n",
    "'''\n",
    "import numpy as np\n",
    "import matplotlib.pyplot as plt\n",
    "\n",
    "# Generate data\n",
    "np.random.seed(3)\n",
    "x = 3 + np.random.normal(0, 2, 50)\n",
    "y = 3 + np.random.normal(0, 2, len(x))\n",
    "\n",
    "# Plot scatter plot\n",
    "plt.scatter(x, y)\n",
    "plt.title('Scatter Plot of Generated Data')\n",
    "plt.xlabel('X values')\n",
    "plt.ylabel('Y values')\n",
    "plt.show()\n"
   ]
  },
  {
   "cell_type": "markdown",
   "id": "48b96487-28f4-4641-8396-44f76fa4b539",
   "metadata": {},
   "source": [
    "Q3: Why is the subplot() function used? Draw four line plots using the subplot() function.\n",
    "Use the following data:\n",
    "import numpy as np\n",
    "For line 1: x = np.array([0, 1, 2, 3, 4, 5]) and y = np.array([0, 100, 200, 300, 400, 500])\n",
    "For line 2: x = np.array([0, 1, 2, 3, 4, 5]) and y = np.array([50, 20, 40, 20, 60, 70])\n",
    "For line 3: x = np.array([0, 1, 2, 3, 4, 5]) and y = np.array([10, 20, 30, 40, 50, 60])\n",
    "For line 4: x = np.array([0, 1, 2, 3, 4, 5]) and y = np.array([200, 350, 250, 550, 450, 150])"
   ]
  },
  {
   "cell_type": "code",
   "execution_count": null,
   "id": "9a993fe1-34be-427e-bdbd-9bae015e15da",
   "metadata": {},
   "outputs": [],
   "source": [
    "'''\n",
    "The subplot() function in Matplotlib is used to create multiple plots in a single figure. \n",
    "This is useful when you want to compare multiple plots side by side or stack them in rows or columns.\n",
    "'''\n",
    "import numpy as np\n",
    "import matplotlib.pyplot as plt\n",
    "\n",
    "# Data for line plots\n",
    "x = np.array([0, 1, 2, 3, 4, 5])\n",
    "y1 = np.array([0, 100, 200, 300, 400, 500])\n",
    "y2 = np.array([50, 20, 40, 20, 60, 70])\n",
    "y3 = np.array([10, 20, 30, 40, 50, 60])\n",
    "y4 = np.array([200, 350, 250, 550, 450, 150])\n",
    "\n",
    "# Create subplots\n",
    "plt.figure(figsize=(10, 8))\n",
    "\n",
    "plt.subplot(2, 2, 1)\n",
    "plt.plot(x, y1)\n",
    "plt.title('Line 1')\n",
    "\n",
    "plt.subplot(2, 2, 2)\n",
    "plt.plot(x, y2)\n",
    "plt.title('Line 2')\n",
    "\n",
    "plt.subplot(2, 2, 3)\n",
    "plt.plot(x, y3)\n",
    "plt.title('Line 3')\n",
    "\n",
    "plt.subplot(2, 2, 4)\n",
    "plt.plot(x, y4)\n",
    "plt.title('Line 4')\n",
    "\n",
    "plt.tight_layout()\n",
    "plt.show()\n"
   ]
  },
  {
   "cell_type": "markdown",
   "id": "28daf2c8-7a2e-4c0d-878a-add6f91b57eb",
   "metadata": {},
   "source": [
    "Q4: What is a bar plot? Why is it used? Using the following data plot a bar plot and a horizontal bar plot.\n",
    "import numpy as np\n",
    "company = np.array([\"Apple\", \"Microsoft\", \"Google\", \"AMD\"])\n",
    "profit = np.array([3000, 8000, 1000, 10000])"
   ]
  },
  {
   "cell_type": "code",
   "execution_count": null,
   "id": "c32b0850-eea5-4ff8-b5c0-4ddcdc4e56bc",
   "metadata": {},
   "outputs": [],
   "source": [
    "'''\n",
    "A bar plot is a chart that represents categorical data with rectangular bars. \n",
    "The length of the bar is proportional to the value it represents. Bar plots are used to compare different categories or groups.\n",
    "'''\n",
    "import numpy as np\n",
    "import matplotlib.pyplot as plt\n",
    "\n",
    "# Data for bar plots\n",
    "company = np.array([\"Apple\", \"Microsoft\", \"Google\", \"AMD\"])\n",
    "profit = np.array([3000, 8000, 1000, 10000])\n",
    "\n",
    "# Vertical bar plot\n",
    "plt.figure(figsize=(10, 5))\n",
    "\n",
    "plt.subplot(1, 2, 1)\n",
    "plt.bar(company, profit, color=['blue', 'green', 'red', 'purple'])\n",
    "plt.title('Company Profits')\n",
    "plt.xlabel('Company')\n",
    "plt.ylabel('Profit')\n",
    "\n",
    "# Horizontal bar plot\n",
    "plt.subplot(1, 2, 2)\n",
    "plt.barh(company, profit, color=['blue', 'green', 'red', 'purple'])\n",
    "plt.title('Company Profits')\n",
    "plt.xlabel('Profit')\n",
    "plt.ylabel('Company')\n",
    "\n",
    "plt.tight_layout()\n",
    "plt.show()\n"
   ]
  },
  {
   "cell_type": "markdown",
   "id": "01f026e4-abd8-42b0-aacb-342998e777c9",
   "metadata": {},
   "source": [
    "Q5: What is a box plot? Why is it used? Using the following data plot a box plot.\n",
    "box1 = np.random.normal(100, 10, 200)\n",
    "box2 = np.random.normal(90, 20, 200)"
   ]
  },
  {
   "cell_type": "code",
   "execution_count": null,
   "id": "efef79a4-bef9-41d4-8fbe-c9a92932a87f",
   "metadata": {},
   "outputs": [],
   "source": [
    "'''A box plot (or whisker plot) is a standardized way of displaying the distribution of data based on a five-number summary:\n",
    "minimum, first quartile (Q1), median, third quartile (Q3), and maximum. It is used to identify outliers and understand the \n",
    "distribution and variability of the data.\n",
    "\n",
    "Code to plot a box plot:\n",
    "'''\n",
    "import numpy as np\n",
    "import matplotlib.pyplot as plt\n",
    "\n",
    "# Data for box plots\n",
    "box1 = np.random.normal(100, 10, 200)\n",
    "box2 = np.random.normal(90, 20, 200)\n",
    "\n",
    "# Plot box plots\n",
    "plt.figure(figsize=(8, 6))\n",
    "plt.boxplot([box1, box2], labels=['Box1', 'Box2'])\n",
    "plt.title('Box Plot of Generated Data')\n",
    "plt.ylabel('Values')\n",
    "plt.show()\n"
   ]
  },
  {
   "cell_type": "code",
   "execution_count": null,
   "id": "17164db0-ec91-40d4-9842-cf32e4b00acc",
   "metadata": {},
   "outputs": [],
   "source": []
  }
 ],
 "metadata": {
  "kernelspec": {
   "display_name": "Python 3 (ipykernel)",
   "language": "python",
   "name": "python3"
  },
  "language_info": {
   "codemirror_mode": {
    "name": "ipython",
    "version": 3
   },
   "file_extension": ".py",
   "mimetype": "text/x-python",
   "name": "python",
   "nbconvert_exporter": "python",
   "pygments_lexer": "ipython3",
   "version": "3.10.8"
  }
 },
 "nbformat": 4,
 "nbformat_minor": 5
}
