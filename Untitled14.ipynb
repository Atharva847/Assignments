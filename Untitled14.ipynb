{
 "cells": [
  {
   "cell_type": "markdown",
   "id": "a2514a4b-cd4e-42ae-aacb-07d45cd27e20",
   "metadata": {},
   "source": [
    "\n",
    "Q1. What is the Probability Density Function?"
   ]
  },
  {
   "cell_type": "code",
   "execution_count": null,
   "id": "a7fc9592-2922-47ab-8faf-818aefa20d2c",
   "metadata": {},
   "outputs": [],
   "source": [
    "'''\n",
    "The Probability Density Function (PDF) is a function that describes the likelihood of a random variable to take on a particular value. \n",
    "For continuous random variables, the PDF is used to specify the probability of the variable falling within a particular range of values. \n",
    "The area under the PDF curve over an interval represents the probability that the random variable falls within that interval.\n",
    "'''"
   ]
  },
  {
   "cell_type": "markdown",
   "id": "108d99d8-9ddd-40a9-b506-1b1661f37aa3",
   "metadata": {},
   "source": [
    "Q2. What are the types of Probability Distribution?"
   ]
  },
  {
   "cell_type": "code",
   "execution_count": null,
   "id": "2c808d79-a604-4711-a1a8-8adbddcf947f",
   "metadata": {},
   "outputs": [],
   "source": [
    "'''\n",
    "The main types of probability distributions include:\n",
    "\n",
    "Discrete Probability Distributions:\n",
    "\n",
    "Binomial Distribution\n",
    "Poisson Distribution\n",
    "Geometric Distribution\n",
    "Continuous Probability Distributions:\n",
    "\n",
    "Normal Distribution\n",
    "Exponential Distribution\n",
    "Uniform Distribution\n",
    "'''"
   ]
  },
  {
   "cell_type": "markdown",
   "id": "4ddca82e-95ac-4e86-8293-278414fbf91e",
   "metadata": {},
   "source": [
    "Q3. Write a Python function to calculate the probability density function of a normal distribution with given mean and standard deviation at a\n",
    "given point."
   ]
  },
  {
   "cell_type": "code",
   "execution_count": null,
   "id": "856d2f84-687f-424c-8dda-c1f4103d5aa2",
   "metadata": {},
   "outputs": [],
   "source": [
    "import math\n",
    "\n",
    "def normal_pdf(x, mean, std_dev):\n",
    "    exponent = math.exp(-((x - mean) ** 2) / (2 * std_dev ** 2))\n",
    "    return (1 / (std_dev * math.sqrt(2 * math.pi))) * exponent\n",
    "\n",
    "# Example usage:\n",
    "mean = 0\n",
    "std_dev = 1\n",
    "x = 1\n",
    "print(normal_pdf(x, mean, std_dev))\n"
   ]
  },
  {
   "cell_type": "markdown",
   "id": "22902d16-e00c-44dd-8cf4-a6248b8535aa",
   "metadata": {},
   "source": [
    "Q4. What are the properties of Binomial Distribution? Give two examples of events where binomial distribution can be applied."
   ]
  },
  {
   "cell_type": "code",
   "execution_count": null,
   "id": "866d5509-7a7e-487f-9c4b-cbb03505b396",
   "metadata": {},
   "outputs": [],
   "source": [
    "'''\n",
    "Properties of Binomial Distribution:\n",
    "\n",
    "The experiment consists of \n",
    "𝑛\n",
    "n independent trials.\n",
    "Each trial has only two possible outcomes: success or failure.\n",
    "The probability of success, denoted by \n",
    "𝑝\n",
    "p, is the same for each trial.\n",
    "The probability of failure is \n",
    "1\n",
    "−\n",
    "𝑝\n",
    "1−p.\n",
    "Examples:\n",
    "\n",
    "Flipping a coin \n",
    "𝑛\n",
    "n times and counting the number of heads.\n",
    "Determining the number of defective items in a batch of \n",
    "𝑛\n",
    "n products.\n",
    "'''"
   ]
  },
  {
   "cell_type": "markdown",
   "id": "d0d32669-4fd4-4282-9463-83a2ef709b72",
   "metadata": {},
   "source": [
    "Q5. Generate a random sample of size 1000 from a binomial distribution with probability of success 0.4 and plot a histogram of the results using matplotlib."
   ]
  },
  {
   "cell_type": "code",
   "execution_count": null,
   "id": "76869eba-a6e9-48bc-aa79-0228efc7b43b",
   "metadata": {},
   "outputs": [],
   "source": [
    "import numpy as np\n",
    "import matplotlib.pyplot as plt\n",
    "\n",
    "# Parameters\n",
    "n = 10  # number of trials\n",
    "p = 0.4  # probability of success\n",
    "size = 1000  # sample size\n",
    "\n",
    "# Generate random sample\n",
    "sample = np.random.binomial(n, p, size)\n",
    "\n",
    "# Plot histogram\n",
    "plt.hist(sample, bins=range(n+2), edgecolor='black', alpha=0.7)\n",
    "plt.title('Histogram of Binomial Distribution (n=10, p=0.4)')\n",
    "plt.xlabel('Number of Successes')\n",
    "plt.ylabel('Frequency')\n",
    "plt.show()\n"
   ]
  },
  {
   "cell_type": "markdown",
   "id": "0fa45210-f96d-49b9-ad1c-c27ab0ccfb92",
   "metadata": {},
   "source": [
    "Q6. Write a Python function to calculate the cumulative distribution function of a Poisson distribution with given mean at a given point."
   ]
  },
  {
   "cell_type": "code",
   "execution_count": null,
   "id": "6e3e387e-9ef6-4bd3-9734-286eea81d81a",
   "metadata": {},
   "outputs": [],
   "source": [
    "import math\n",
    "\n",
    "def poisson_cdf(k, mean):\n",
    "    cdf = 0\n",
    "    for i in range(0, k+1):\n",
    "        cdf += (math.exp(-mean) * mean**i) / math.factorial(i)\n",
    "    return cdf\n",
    "\n",
    "# Example usage:\n",
    "mean = 3\n",
    "k = 5\n",
    "print(poisson_cdf(k, mean))\n"
   ]
  },
  {
   "cell_type": "markdown",
   "id": "13ea3312-656b-4d31-964b-f6576b8823b9",
   "metadata": {},
   "source": [
    "Q7. How is Binomial Distribution different from Poisson Distribution?"
   ]
  },
  {
   "cell_type": "code",
   "execution_count": null,
   "id": "1f26a664-f8f5-4c1d-a7e8-d425b7b59c4c",
   "metadata": {},
   "outputs": [],
   "source": [
    "'''\n",
    "Binomial Distribution:\n",
    "Applicable for a fixed number of trials (\n",
    "𝑛\n",
    "n).\n",
    "Each trial has only two possible outcomes (success or failure).\n",
    "The probability of success (\n",
    "𝑝\n",
    "p) is the same for each trial.\n",
    "Poisson Distribution:\n",
    "Describes the number of events occurring within a fixed interval of time or space.\n",
    "The events are independent.\n",
    "The average rate (mean \n",
    "𝜆\n",
    "λ) at which events occur is constant.\n",
    "There is no upper limit on the number of events.\n",
    "'''"
   ]
  },
  {
   "cell_type": "markdown",
   "id": "e4948cc3-ad9b-413d-9870-d9a50c7ffb62",
   "metadata": {},
   "source": [
    "Q8. Generate a random sample of size 1000 from a Poisson distribution with mean 5 and calculate the sample mean and variance."
   ]
  },
  {
   "cell_type": "code",
   "execution_count": null,
   "id": "06ddb288-b64f-409b-8980-26b5b2a798c5",
   "metadata": {},
   "outputs": [],
   "source": [
    "import numpy as np\n",
    "\n",
    "# Parameters\n",
    "mean = 5\n",
    "size = 1000\n",
    "\n",
    "# Generate random sample\n",
    "sample = np.random.poisson(mean, size)\n",
    "\n",
    "# Calculate sample mean and variance\n",
    "sample_mean = np.mean(sample)\n",
    "sample_variance = np.var(sample)\n",
    "\n",
    "print(f'Sample Mean: {sample_mean}')\n",
    "print(f'Sample Variance: {sample_variance}')\n"
   ]
  },
  {
   "cell_type": "markdown",
   "id": "0ae00943-ee91-4e82-9723-e47244421483",
   "metadata": {},
   "source": [
    "Q9. How are mean and variance related in Binomial Distribution and Poisson Distribution?"
   ]
  },
  {
   "cell_type": "code",
   "execution_count": null,
   "id": "88bd9da7-1eac-43e4-843c-ddc48d2d0e11",
   "metadata": {},
   "outputs": [],
   "source": [
    "'''\n",
    "Binomial Distribution:\n",
    "\n",
    "Mean: \n",
    "𝜇\n",
    "=\n",
    "𝑛\n",
    "𝑝\n",
    "μ=np\n",
    "Variance: \n",
    "𝜎\n",
    "2\n",
    "=\n",
    "𝑛\n",
    "𝑝\n",
    "(\n",
    "1\n",
    "−\n",
    "𝑝\n",
    ")\n",
    "σ \n",
    "2\n",
    " =np(1−p)\n",
    "Poisson Distribution:\n",
    "\n",
    "Mean: \n",
    "𝜆\n",
    "λ\n",
    "Variance: \n",
    "𝜆\n",
    "λ\n",
    "'''"
   ]
  },
  {
   "cell_type": "code",
   "execution_count": null,
   "id": "13a763ca-e5a9-4bff-b630-ecd94126fb12",
   "metadata": {},
   "outputs": [],
   "source": []
  }
 ],
 "metadata": {
  "kernelspec": {
   "display_name": "Python 3 (ipykernel)",
   "language": "python",
   "name": "python3"
  },
  "language_info": {
   "codemirror_mode": {
    "name": "ipython",
    "version": 3
   },
   "file_extension": ".py",
   "mimetype": "text/x-python",
   "name": "python",
   "nbconvert_exporter": "python",
   "pygments_lexer": "ipython3",
   "version": "3.10.8"
  }
 },
 "nbformat": 4,
 "nbformat_minor": 5
}
