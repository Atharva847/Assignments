{
 "cells": [
  {
   "cell_type": "markdown",
   "id": "9638e93e-4011-47d6-915f-a50065cf9100",
   "metadata": {},
   "source": [
    "Q1. Create one variable containing following type of data:"
   ]
  },
  {
   "cell_type": "code",
   "execution_count": null,
   "id": "14463741-82b0-4190-9ae6-420852ce184b",
   "metadata": {},
   "outputs": [],
   "source": [
    "s = \"Hello World\"\n",
    "type(s)"
   ]
  },
  {
   "cell_type": "code",
   "execution_count": null,
   "id": "cced0c64-dbc7-4379-822c-cba5b206f02c",
   "metadata": {},
   "outputs": [],
   "source": [
    "l = [1,2,3,4,5,True,\"Hello World\",2.5]\n",
    "type(l)"
   ]
  },
  {
   "cell_type": "code",
   "execution_count": null,
   "id": "7ceeb8dc-c14b-412e-850a-df6b9430823e",
   "metadata": {},
   "outputs": [],
   "source": [
    "f = 2.5\n",
    "type(f)"
   ]
  },
  {
   "cell_type": "code",
   "execution_count": null,
   "id": "a3a6c6ea-e84d-4393-941e-3f2324c0c794",
   "metadata": {},
   "outputs": [],
   "source": [
    "t = (1,)\n",
    "type(t)"
   ]
  },
  {
   "cell_type": "markdown",
   "id": "096dec6d-f70d-47a7-b16d-e4907a39b145",
   "metadata": {},
   "source": [
    "Q2. Given are some following variables containing data:"
   ]
  },
  {
   "cell_type": "code",
   "execution_count": null,
   "id": "fc8568f7-293d-4a42-a46e-4cea15555d34",
   "metadata": {},
   "outputs": [],
   "source": [
    "var1 = ' '  #It is a string "
   ]
  },
  {
   "cell_type": "code",
   "execution_count": null,
   "id": "e0b9ef19-7abd-4e48-8538-2d7123b9ec0f",
   "metadata": {},
   "outputs": [],
   "source": [
    "var2 = '[DS,ML,python]' # It is a String"
   ]
  },
  {
   "cell_type": "code",
   "execution_count": null,
   "id": "a6907d4f-7ce4-4ba5-8eff-97bd8bd70148",
   "metadata": {},
   "outputs": [],
   "source": [
    "var3 = ['DS','ML','python'] # It is a list"
   ]
  },
  {
   "cell_type": "code",
   "execution_count": null,
   "id": "f3463367-45ed-4603-b9fb-c92e81d9a971",
   "metadata": {},
   "outputs": [],
   "source": [
    "var4 = 1 # It is a int(integer)"
   ]
  },
  {
   "cell_type": "markdown",
   "id": "039980e4-c640-43e0-9d1a-3b6586c61f18",
   "metadata": {},
   "source": [
    "Q3. Explain the use of the following operators using an example:"
   ]
  },
  {
   "cell_type": "code",
   "execution_count": null,
   "id": "273a44e4-70cd-4f7b-b132-4302065f5c33",
   "metadata": {},
   "outputs": [],
   "source": [
    "# / --> It is used to divide a first number with the second number.Below is the example\n",
    "a = 10\n",
    "b = 5\n",
    "a/b"
   ]
  },
  {
   "cell_type": "code",
   "execution_count": null,
   "id": "15630f78-9db7-4ef9-980f-5b469cb6de01",
   "metadata": {},
   "outputs": [],
   "source": [
    "# % --> It is modulus. It returns the remainder.Below is the example\n",
    "a = 4\n",
    "b = 2\n",
    "a%b"
   ]
  },
  {
   "cell_type": "code",
   "execution_count": null,
   "id": "77fe1910-7d03-4fc0-9fe5-b4710f73e6ba",
   "metadata": {},
   "outputs": [],
   "source": [
    "# // --> It is floor division. It rounds the nearest whole divison\n",
    "a = 4\n",
    "b = 2\n",
    "a//b"
   ]
  },
  {
   "cell_type": "code",
   "execution_count": null,
   "id": "cc1e5816-526f-4074-b16a-b88ed5c937e9",
   "metadata": {},
   "outputs": [],
   "source": [
    "# ** --> It returns the square of a number.\n",
    "a = 2\n",
    "b = 5\n",
    "a**b #In this a is number and b is used as a square of a"
   ]
  },
  {
   "cell_type": "markdown",
   "id": "1e5cce76-7fd4-4d4f-96a1-be5159274558",
   "metadata": {},
   "source": [
    "Q4. Create a list of length 10 of your choice containing multiple types of data. Using for loop print the\n",
    "element and its data type."
   ]
  },
  {
   "cell_type": "code",
   "execution_count": null,
   "id": "c2637336-e996-49ba-b778-3b291cc8d814",
   "metadata": {},
   "outputs": [],
   "source": [
    "a = [1,2,3,4,5,6,7,8.0,True,\"Hello\"]\n",
    "for i in a:\n",
    "    print(i,\"--->\",type(a))"
   ]
  },
  {
   "cell_type": "markdown",
   "id": "b447e6d3-9358-4f89-9514-5ce4d2ba7551",
   "metadata": {},
   "source": [
    "Q5. Using a while loop, verify if the number A is purely divisible by number B and if so then how many\n",
    "times it can be divisible."
   ]
  },
  {
   "cell_type": "code",
   "execution_count": null,
   "id": "33ecd806-b9a3-426c-997c-dd6598a8a43d",
   "metadata": {},
   "outputs": [],
   "source": [
    "a = 4\n",
    "b = 2\n",
    "count = 0\n",
    "while a%b==0:\n",
    "    a = a/b\n",
    "    count = count + 1\n",
    "if count > 0:\n",
    "    print(\"It is divisible\", count,\"times\")\n",
    "else:\n",
    "    print(\"It is not divisble\")"
   ]
  },
  {
   "cell_type": "markdown",
   "id": "8d076d4d-2a95-4e95-9b03-e202218d8819",
   "metadata": {},
   "source": [
    "Q6. Create a list containing 25 int type data. Using for loop and if-else condition print if the element is\n",
    "divisible by 3 or not."
   ]
  },
  {
   "cell_type": "code",
   "execution_count": null,
   "id": "48e6fa64-467d-4af7-85c9-3fd221e301ee",
   "metadata": {},
   "outputs": [],
   "source": [
    "lis = []\n",
    "for i in range(1,26):\n",
    "    lis.append(i)\n",
    "    if i%3==0:\n",
    "        print(i)\n",
    "    else:\n",
    "        None\n"
   ]
  },
  {
   "cell_type": "markdown",
   "id": "596bba75-de02-4324-9579-a5a1e6003516",
   "metadata": {},
   "source": [
    "Q7. What do you understand about mutable and immutable data types? Give examples for both showing\n",
    "this property."
   ]
  },
  {
   "cell_type": "code",
   "execution_count": null,
   "id": "23289dae-c01b-4d82-bec5-b04e07482e95",
   "metadata": {},
   "outputs": [],
   "source": [
    "# Mutable --> It means we can add element, change the element and also access the element.\n",
    "a = [1,2,3,4,5]\n",
    "print(a[1] = 200)"
   ]
  },
  {
   "cell_type": "code",
   "execution_count": null,
   "id": "b8bef9c8-f233-4dc6-83f4-5eaf14b4e169",
   "metadata": {},
   "outputs": [],
   "source": [
    "# Immutable --> It means we cannot modify and add element element\n",
    "a = \"Hello\"\n",
    "print(a[1]=\"a\") # It will throw error"
   ]
  },
  {
   "cell_type": "code",
   "execution_count": null,
   "id": "a0bdc328-0791-4177-b0e7-706d02f0b4f6",
   "metadata": {},
   "outputs": [],
   "source": []
  }
 ],
 "metadata": {
  "kernelspec": {
   "display_name": "Python 3 (ipykernel)",
   "language": "python",
   "name": "python3"
  },
  "language_info": {
   "codemirror_mode": {
    "name": "ipython",
    "version": 3
   },
   "file_extension": ".py",
   "mimetype": "text/x-python",
   "name": "python",
   "nbconvert_exporter": "python",
   "pygments_lexer": "ipython3",
   "version": "3.10.8"
  },
  "toc-showtags": false
 },
 "nbformat": 4,
 "nbformat_minor": 5
}
