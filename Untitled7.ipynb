{
 "cells": [
  {
   "cell_type": "markdown",
   "id": "1984b581-3419-47ac-898b-996e49ddaa05",
   "metadata": {},
   "source": [
    "Q1. Write a code to print the data present in the second row of the dataframe, df."
   ]
  },
  {
   "cell_type": "code",
   "execution_count": null,
   "id": "2ed90c38-f812-46d1-9260-015b042760e5",
   "metadata": {},
   "outputs": [],
   "source": [
    "import pandas as pd\n",
    "\n",
    "course_name = ['Data Science', 'Machine Learning', 'Big Data', 'Data Engineer']\n",
    "duration = [2, 3, 6, 4]\n",
    "df = pd.DataFrame(data={'course_name': course_name, 'duration': duration})\n",
    "\n",
    "# Print the data present in the second row\n",
    "print(df.iloc[1])\n"
   ]
  },
  {
   "cell_type": "markdown",
   "id": "ac95ea4f-445e-49f9-b7c3-41dea1de27a0",
   "metadata": {},
   "source": [
    "Q2. What is the difference between the functions loc and iloc in pandas.DataFrame?\n"
   ]
  },
  {
   "cell_type": "code",
   "execution_count": null,
   "id": "8560154b-5cf6-4990-a66d-838105d67e57",
   "metadata": {},
   "outputs": [],
   "source": [
    "'''\n",
    "loc: Access a group of rows and columns by labels or a boolean array. It's label-based.\n",
    "iloc: Access a group of rows and columns by integer position(s). It's integer-based.\n",
    "'''"
   ]
  },
  {
   "cell_type": "markdown",
   "id": "b3fff935-e632-44de-88d7-8cb27ed1092a",
   "metadata": {},
   "source": [
    "Q3. Reindex the given dataframe using a variable, reindex = [3,0,1,2] and store it in the variable, new_df then find the output for \n",
    "both new_df.loc[2] and new_df.iloc[2]."
   ]
  },
  {
   "cell_type": "code",
   "execution_count": null,
   "id": "8fc617b1-a635-4b82-8b38-5d57b4f8ff5d",
   "metadata": {},
   "outputs": [],
   "source": [
    "reindex = [3, 0, 1, 2]\n",
    "new_df = df.reindex(reindex)\n",
    "\n",
    "print(\"new_df.loc[2]:\")\n",
    "print(new_df.loc[2])\n",
    "print(\"\\nnew_df.iloc[2]:\")\n",
    "print(new_df.iloc[2])\n"
   ]
  },
  {
   "cell_type": "markdown",
   "id": "4525282b-696a-4214-b817-3110c10f461b",
   "metadata": {},
   "source": [
    "Q4. Write a code to find the following statistical measurements for the above dataframe df1:\n",
    "(i) mean of each and every column present in the dataframe.\n",
    "(ii) standard deviation of column, ‘column_2’"
   ]
  },
  {
   "cell_type": "code",
   "execution_count": null,
   "id": "ac20daf0-ceb5-4b7f-9fb5-dc4da4617795",
   "metadata": {},
   "outputs": [],
   "source": [
    "import numpy as np\n",
    "\n",
    "columns = ['column_1', 'column_2', 'column_3', 'column_4', 'column_5', 'column_6']\n",
    "indices = [1, 2, 3, 4, 5, 6]\n",
    "df1 = pd.DataFrame(np.random.rand(6, 6), columns=columns, index=indices)\n",
    "\n",
    "# (i) Mean of each column\n",
    "print(\"Mean of each column:\")\n",
    "print(df1.mean())\n",
    "\n",
    "# (ii) Standard deviation of column 'column_2'\n",
    "print(\"\\nStandard deviation of column_2:\")\n",
    "print(df1['column_2'].std())\n"
   ]
  },
  {
   "cell_type": "markdown",
   "id": "bed893e0-7831-4c40-a052-c2ea1aab2493",
   "metadata": {},
   "source": [
    "Q5. Replace the data present in the second row of column, ‘column_2’ by a string variable then find the mean of column, column_2. \n",
    "If you are getting errors in executing it then explain why."
   ]
  },
  {
   "cell_type": "code",
   "execution_count": null,
   "id": "759f06aa-a2db-4689-b9d7-eacec41c770d",
   "metadata": {},
   "outputs": [],
   "source": [
    "# Replacing second row of column_2 with a string\n",
    "df1.loc[2, 'column_2'] = 'string_value'\n",
    "\n",
    "# Trying to calculate the mean of column_2\n",
    "try:\n",
    "    print(df1['column_2'].mean())\n",
    "except Exception as e:\n",
    "    print(f\"Error: {e}\")\n"
   ]
  },
  {
   "cell_type": "markdown",
   "id": "49b73103-6bae-4dbe-8b6d-4b95c2820413",
   "metadata": {},
   "source": [
    "Q6. What do you understand about the windows function in pandas and list the types of windows functions?"
   ]
  },
  {
   "cell_type": "code",
   "execution_count": null,
   "id": "663224ee-843e-4d30-b4de-83858ec4ca21",
   "metadata": {},
   "outputs": [],
   "source": [
    "'''\n",
    "Windows functions perform operations on a specified window of data within the DataFrame.\n",
    "\n",
    "Types of window functions:\n",
    "\n",
    "Rolling: Provides rolling window calculations.\n",
    "Expanding: Provides expanding window calculations.\n",
    "EWM (Exponentially Weighted Windows): Provides exponentially weighted window calculations.\n",
    "\n",
    "'''"
   ]
  },
  {
   "cell_type": "markdown",
   "id": "14c88abe-4a6e-44c5-8f62-9185e812536c",
   "metadata": {},
   "source": [
    "Q7. Write a code to print only the current month and year at the time of answering this question."
   ]
  },
  {
   "cell_type": "code",
   "execution_count": null,
   "id": "b70881ea-926e-4bc0-886d-a60bf7e023a6",
   "metadata": {},
   "outputs": [],
   "source": [
    "import pandas as pd\n",
    "from datetime import datetime\n",
    "\n",
    "now = datetime.now()\n",
    "print(now.strftime(\"%Y-%m\"))\n"
   ]
  },
  {
   "cell_type": "markdown",
   "id": "a5689a5d-05d6-4d7b-9bd4-8a6b42825111",
   "metadata": {},
   "source": [
    "Q8. Write a Python program that takes in two dates as input (in the format YYYY-MM-DD) and calculates the difference between them in days, \n",
    "hours, and minutes using Pandas time delta.\n"
   ]
  },
  {
   "cell_type": "code",
   "execution_count": null,
   "id": "f6436098-922d-45b0-9cca-580be2abf242",
   "metadata": {},
   "outputs": [],
   "source": [
    "import pandas as pd\n",
    "\n",
    "date1 = pd.to_datetime(input(\"Enter the first date (YYYY-MM-DD): \"))\n",
    "date2 = pd.to_datetime(input(\"Enter the second date (YYYY-MM-DD): \"))\n",
    "\n",
    "delta = abs(date2 - date1)\n",
    "days = delta.days\n",
    "hours, remainder = divmod(delta.seconds, 3600)\n",
    "minutes, _ = divmod(remainder, 60)\n",
    "\n",
    "print(f\"Difference: {days} days, {hours} hours, and {minutes} minutes\")\n"
   ]
  },
  {
   "cell_type": "markdown",
   "id": "5ad6f727-32fc-4f55-b874-e4b555a99035",
   "metadata": {},
   "source": [
    "Q9. Write a Python program that reads a CSV file containing categorical data and converts a specified column to a categorical data type."
   ]
  },
  {
   "cell_type": "code",
   "execution_count": null,
   "id": "07b6384f-147b-459b-a1b4-027df447770b",
   "metadata": {},
   "outputs": [],
   "source": []
  }
 ],
 "metadata": {
  "kernelspec": {
   "display_name": "Python 3 (ipykernel)",
   "language": "python",
   "name": "python3"
  },
  "language_info": {
   "codemirror_mode": {
    "name": "ipython",
    "version": 3
   },
   "file_extension": ".py",
   "mimetype": "text/x-python",
   "name": "python",
   "nbconvert_exporter": "python",
   "pygments_lexer": "ipython3",
   "version": "3.10.8"
  }
 },
 "nbformat": 4,
 "nbformat_minor": 5
}
