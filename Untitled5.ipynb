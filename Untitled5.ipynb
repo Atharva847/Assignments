{
 "cells": [
  {
   "cell_type": "markdown",
   "id": "2fa84c10-2649-471f-8df1-49cbcdcb77a6",
   "metadata": {},
   "source": [
    "1. What is multithreading in Python? Why is it used? Name the module used to handle threads in Python."
   ]
  },
  {
   "cell_type": "code",
   "execution_count": null,
   "id": "87a1ac55-f978-4809-8268-dafe845977b1",
   "metadata": {},
   "outputs": [],
   "source": [
    "'''\n",
    "Multithreading in Python refers to the concurrent execution of multiple threads (smaller units of a process) within a single process. \n",
    "It allows multiple operations to run concurrently within a program, making it useful for tasks that involve I/O operations (e.g., reading/writing \n",
    "files, network operations) where a significant amount of time is spent waiting for external resources.\n",
    "\n",
    "Module used: The threading module is used to handle threads in Python.\n",
    "'''"
   ]
  },
  {
   "cell_type": "markdown",
   "id": "b3f0ca44-ac2e-4985-8b00-650677a3cb9c",
   "metadata": {},
   "source": [
    "2. Why threading module is used? Write the use of the following functions: activeCount, currentThread, enumerate."
   ]
  },
  {
   "cell_type": "code",
   "execution_count": null,
   "id": "716d9c5b-11ae-46a3-a8b6-4ab89048a360",
   "metadata": {},
   "outputs": [],
   "source": [
    "'''\n",
    "The threading module is used for creating and managing threads in Python. It provides a higher-level, easier-to-use interface \n",
    "than the older _thread module.\n",
    "\n",
    "activeCount(): Returns the number of Thread objects currently alive.\n",
    "currentThread(): Returns the current Thread object corresponding to the caller's thread of control.\n",
    "enumerate(): Returns a list of all Thread objects currently alive.\n",
    "'''"
   ]
  },
  {
   "cell_type": "markdown",
   "id": "67183c53-189d-4f4a-a4ce-4dae55488de1",
   "metadata": {},
   "source": [
    "3. Explain the following functions: run, start, join, isAlive."
   ]
  },
  {
   "cell_type": "code",
   "execution_count": null,
   "id": "c6a6350b-d216-43f3-a6f9-587e6ade00a0",
   "metadata": {},
   "outputs": [],
   "source": [
    "'''\n",
    "run: Defines the entry point for a thread. This method can be overridden in a subclass to define the behavior of the thread.\n",
    "start: Starts the thread's activity. It must be called to begin thread execution; this will invoke the run method in a separate thread of control.\n",
    "join: Waits for the thread to terminate. This blocks the calling thread until the thread whose join method is called terminates.\n",
    "isAlive: Returns whether the thread is still alive (i.e., it has been started and has not yet terminated).\n",
    "'''"
   ]
  }
 ],
 "metadata": {
  "kernelspec": {
   "display_name": "Python 3 (ipykernel)",
   "language": "python",
   "name": "python3"
  },
  "language_info": {
   "codemirror_mode": {
    "name": "ipython",
    "version": 3
   },
   "file_extension": ".py",
   "mimetype": "text/x-python",
   "name": "python",
   "nbconvert_exporter": "python",
   "pygments_lexer": "ipython3",
   "version": "3.10.8"
  }
 },
 "nbformat": 4,
 "nbformat_minor": 5
}
