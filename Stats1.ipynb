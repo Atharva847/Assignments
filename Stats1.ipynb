{
 "cells": [
  {
   "cell_type": "markdown",
   "id": "1ff77d32-6e8c-4caf-8f66-b94427278a53",
   "metadata": {},
   "source": [
    "Q1. What is Statistics?"
   ]
  },
  {
   "cell_type": "code",
   "execution_count": 1,
   "id": "82f41f4a-5fd6-4161-b98b-e5b56133af5c",
   "metadata": {},
   "outputs": [
    {
     "data": {
      "text/plain": [
       "'\\nStatistics is the study of the collection, analysis, interpretation, presentation, and organization of data\\n'"
      ]
     },
     "execution_count": 1,
     "metadata": {},
     "output_type": "execute_result"
    }
   ],
   "source": [
    "'''\n",
    "\n",
    "Statistics is the study of the collection, analysis, interpretation, presentation, and organization of data\n",
    "\n",
    "'''"
   ]
  },
  {
   "cell_type": "markdown",
   "id": "b8f77093-deaa-44f8-a591-dbfe36bd5a44",
   "metadata": {},
   "source": [
    "Q2. Define the different types of statistics and give an example of when each type might be used."
   ]
  },
  {
   "cell_type": "code",
   "execution_count": 2,
   "id": "0969bfbf-d639-44bf-aece-ac91c4139ea8",
   "metadata": {},
   "outputs": [
    {
     "data": {
      "text/plain": [
       "'\\n\\n1. Descriptive Statistics - It consists of organizing and summarizing data\\nEg - mean, median, mode\\n\\n2. Inferential Statistics - It consists of using data you have measured to form conclusion\\nEg - z-test, t-test, chi-square, p-value\\n\\n'"
      ]
     },
     "execution_count": 2,
     "metadata": {},
     "output_type": "execute_result"
    }
   ],
   "source": [
    "'''\n",
    "\n",
    "1. Descriptive Statistics - It consists of organizing and summarizing data\n",
    "Eg - mean, median, mode\n",
    "\n",
    "2. Inferential Statistics - It consists of using data you have measured to form conclusion\n",
    "Eg - z-test, t-test, chi-square, p-value\n",
    "\n",
    "'''"
   ]
  },
  {
   "cell_type": "markdown",
   "id": "0f9ae0c5-e397-49f2-a2e2-bc917dd76072",
   "metadata": {},
   "source": [
    "Q3. What are the different types of data and how do they differ from each other? Provide an example of\n",
    "each type of data."
   ]
  },
  {
   "cell_type": "code",
   "execution_count": null,
   "id": "eb87476c-33be-472d-a8ba-e05b3f593b18",
   "metadata": {},
   "outputs": [],
   "source": [
    "'''\n",
    "\n",
    "Data is divided by 2 types\n",
    "1. Quantitative\n",
    "2. Qualitative\n",
    "\n",
    "Quantitative is divided by 2 types\n",
    "1. Discrete ------> Eg-(1,2,3,4)\n",
    "2. Continuous ------> Eg-(1.2, 1.5, 5.5, 3.5)\n",
    "\n",
    "Qualitative is divided by 2 types\n",
    "1. Nominal ------> Gender(Male, Female)\n",
    "2. Ordinal ------> Customer feedback\n",
    "\n",
    "'''"
   ]
  },
  {
   "cell_type": "markdown",
   "id": "c2af56a3-b8b3-43ab-b767-fa399fb18cc6",
   "metadata": {},
   "source": [
    "Q4. Categorise the following datasets with respect to quantitative and qualitative data types:\n",
    "(i) Grading in exam: A+, A, B+, B, C+, C, D, E\n",
    "(ii) Colour of mangoes: yellow, green, orange, red\n",
    "(iii) Height data of a class: [178.9, 179, 179.5, 176, 177.2, 178.3, 175.8,...]\n",
    "(iv) Number of mangoes exported by a farm: [500, 600, 478, 672, ...]"
   ]
  },
  {
   "cell_type": "code",
   "execution_count": null,
   "id": "78cacc50-b616-4b93-8894-4e0a29c20823",
   "metadata": {},
   "outputs": [],
   "source": [
    "'''\n",
    "\n",
    "1. Grading in exam: A+, A, B+, B, C+, C, D, E ----> Nominal\n",
    "2. Colour of mangoes: yellow, green, orange, red ----> Nominal\n",
    "3. Height data of a class: [178.9, 179, 179.5, 176, 177.2, 178.3, 175.8,...] ----> Continuous\n",
    "4. Number of mangoes exported by a farm: [500, 600, 478, 672, ...] ----> Discrete\n",
    "\n",
    "'''"
   ]
  },
  {
   "cell_type": "markdown",
   "id": "cbd70a19-441a-4cb1-b45f-7943c905425b",
   "metadata": {},
   "source": [
    "Q5. Explain the concept of levels of measurement and give an example of a variable for each level."
   ]
  },
  {
   "cell_type": "code",
   "execution_count": null,
   "id": "d62bee09-3341-425c-8ffa-c55811ab0350",
   "metadata": {},
   "outputs": [],
   "source": [
    "'''\n",
    "\n",
    "1. Nominal - Nominal falls under Qualitative which means the data is categorized.\n",
    "Eg ----> Favorite color, Gender(M,F)\n",
    "\n",
    "2. Ordinal - Ordinal falls under Qualitative which means the data is categorized.\n",
    "In this ranking is important\n",
    "Order matters in ordinal\n",
    "Difference cannot be measured \n",
    "\n",
    "Eg ----> Reviews\n",
    "\n",
    "3. Interval Scale Data - Interval data is measured along a numerical scale that has equal distances between adjacent values. \n",
    "Eg ----> Temperature \n",
    "\n",
    "4.Ratio Scale Data - Ratio scales allow you to categorize and rank your data along equal intervals.\n",
    "Eg - length\n",
    "'''\n"
   ]
  },
  {
   "cell_type": "markdown",
   "id": "cc970e5f-b5ac-4262-88c5-d278f147a64e",
   "metadata": {},
   "source": [
    "Q6. Why is it important to understand the level of measurement when analyzing data? Provide an\n",
    "example to illustrate your answer."
   ]
  },
  {
   "cell_type": "code",
   "execution_count": null,
   "id": "cc429bbe-e5e9-49f1-8ab8-8813ebbf40ca",
   "metadata": {},
   "outputs": [],
   "source": [
    "'''\n",
    "Understanding the level of measurement is crucial when analyzing data because it determines the types of \n",
    "statistical analyses and operations that can be applied to the data accurately and meaningfully. Different levels of measurement \n",
    "have distinct properties and limitations, which influence the appropriate methods for summarizing, comparing, and drawing \n",
    "conclusions from the data. The four primary levels of measurement are nominal, ordinal, interval, and ratio.\n",
    "'''"
   ]
  },
  {
   "cell_type": "markdown",
   "id": "233158a6-913d-4e65-b36b-9736244831e8",
   "metadata": {},
   "source": [
    "Q7. How nominal data type is different from ordinal data type."
   ]
  },
  {
   "cell_type": "code",
   "execution_count": null,
   "id": "ea1cc1e7-86f2-432d-8bfc-c2c5204cbb39",
   "metadata": {},
   "outputs": [],
   "source": [
    "'''\n",
    "The primary difference between nominal and ordinal data lies in the presence of order or ranking. \n",
    "Nominal data lacks any inherent order, while ordinal data exhibits a defined order but does not necessarily have equal intervals. \n",
    "Understanding these distinctions is crucial for selecting appropriate analysis methods and making accurate \n",
    "interpretations when working with different types of data.\n",
    "'''"
   ]
  },
  {
   "cell_type": "markdown",
   "id": "af65045b-f1fa-4423-83a7-9ad5e3b00170",
   "metadata": {},
   "source": [
    "Q8. Which type of plot can be used to display data in terms of range?"
   ]
  },
  {
   "cell_type": "code",
   "execution_count": null,
   "id": "fa90bee0-6dd2-46fc-97ca-b56b6c72f3b4",
   "metadata": {},
   "outputs": [],
   "source": [
    "'''\n",
    "\n",
    "A type of plot that can be used to display data in terms of range is a box plot (also known as a box-and-whisker plot). \n",
    "Box plots provide a visual representation of the distribution and spread of data, including \n",
    "the minimum, maximum, median, and quartiles, which are important measures of the data's range.\n",
    "\n",
    "'''"
   ]
  },
  {
   "cell_type": "markdown",
   "id": "eb3e9d95-623d-48c1-bd50-750f3e42576b",
   "metadata": {},
   "source": [
    "Q9. Describe the difference between descriptive and inferential statistics. Give an example of each\n",
    "type of statistics and explain how they are used."
   ]
  },
  {
   "cell_type": "code",
   "execution_count": null,
   "id": "768a6c85-256b-404c-9ae2-f4087404d8f5",
   "metadata": {},
   "outputs": [],
   "source": [
    "'''\n",
    "Descriptive Statistics:\n",
    "\n",
    "Descriptive statistics involve methods for summarizing and describing the main characteristics of a dataset. \n",
    "These statistics help to organize and simplify large amounts of data, making it easier to understand and interpret. \n",
    "Descriptive statistics do not involve making generalizations beyond the data at hand; they simply provide insights\n",
    "into what the data looks like.\n",
    "\n",
    "Example: Suppose you have a dataset of exam scores for a class of students. Descriptive statistics for this dataset might \n",
    "include measures like the mean (average) score, the median (middle score), the mode (most frequent score), the range \n",
    "(difference between the highest and lowest scores), and the standard deviation (a measure of the dispersion of scores around the mean). \n",
    "These statistics would provide a clear picture of the overall performance of the students in the class.\n",
    "\n",
    "\n",
    "Inferential Statistics:\n",
    "\n",
    "Inferential statistics, on the other hand, involve making predictions, inferences, or generalizations about a population based on a \n",
    "sample of data. These statistics are used to draw conclusions that go beyond the immediate data, often involving hypothesis testing \n",
    "and estimation. Inferential statistics help researchers make statements about the likelihood of certain outcomes or relationships \n",
    "within a larger population.\n",
    "\n",
    "Example: Let's continue with the exam score dataset. Suppose you want to know whether the average exam score for this class is \n",
    "significantly different from the average exam score of another class that took the same test last year. You could use inferential\n",
    "statistics to perform a hypothesis test (such as a t-test) to determine if the observed difference in averages is likely due to\n",
    "chance or if it's statistically significant. If the test indicates that the difference is significant, you can infer that the \n",
    "two classes' performance is indeed different and not just due to random variability.\n",
    "\n",
    "'''"
   ]
  },
  {
   "cell_type": "markdown",
   "id": "4db5a10f-f48f-4bde-8d13-15eda2be0589",
   "metadata": {},
   "source": [
    "Q10. What are some common measures of central tendency and variability used in statistics? Explain\n",
    "how each measure can be used to describe a dataset."
   ]
  },
  {
   "cell_type": "code",
   "execution_count": null,
   "id": "8db3493c-edf1-415d-8f75-b51bb65125f2",
   "metadata": {},
   "outputs": [],
   "source": [
    "'''\n",
    "Measures of Central Tendency:\n",
    "\n",
    "Mean: The mean is the average of all the data points in a dataset. It's calculated by summing up all the values and dividing by \n",
    "the total number of values. The mean provides an overall sense of the \"typical\" value in the dataset.\n",
    "\n",
    "Example: If you have a dataset of exam scores (85, 90, 78, 92, 88), the mean would be (85 + 90 + 78 + 92 + 88) / 5 = 86.6. \n",
    "This gives you an idea of the average performance of the students.\n",
    "\n",
    "Median: The median is the middle value in a dataset when the values are arranged in ascending or descending order. \n",
    "If there's an even number of values, the median is the average of the two middle values. The median is less affected \n",
    "by extreme values than the mean and can provide a better representation of the \"central\" value.\n",
    "\n",
    "Example: In the same exam score dataset, if arranged in ascending order, the median would be 88. It's not affected by \n",
    "the lower outlier (78) or the upper outlier (92).\n",
    "\n",
    "Mode: The mode is the value that appears most frequently in a dataset. A dataset can have one mode, more than one mode \n",
    "(bimodal or multimodal), or no mode (when all values are unique). The mode helps identify the most common value.\n",
    "\n",
    "Example: In a dataset of exam scores (85, 90, 78, 92, 88), the mode is 88 because it appears more frequently than the other values.\n",
    "\n",
    "\n",
    "\n",
    "\n",
    "Measures of Variability:\n",
    "\n",
    "Variance: Variance measures the average squared deviation of each data point from the mean. \n",
    "It provides a measure of the spread of data points around the mean. A higher variance indicates greater dispersion.\n",
    "\n",
    "Example: The variance of the exam score dataset might be calculated as follows (using a simplified formula for illustration):\n",
    "\n",
    "Variance = [(85 - 86.6)^2 + (90 - 86.6)^2 + (78 - 86.6)^2 + (92 - 86.6)^2 + (88 - 86.6)^2] / 4 = 23.9.\n",
    "\n",
    "Standard Deviation: The standard deviation is the square root of the variance. It provides a measure of the average \n",
    "deviation from the mean and is expressed in the same units as the data.\n",
    "\n",
    "Example: The standard deviation of the exam score dataset would be the square root of the variance calculated above,\n",
    "which is approximately 4.89.\n",
    "\n",
    "'''"
   ]
  }
 ],
 "metadata": {
  "kernelspec": {
   "display_name": "Python 3 (ipykernel)",
   "language": "python",
   "name": "python3"
  },
  "language_info": {
   "codemirror_mode": {
    "name": "ipython",
    "version": 3
   },
   "file_extension": ".py",
   "mimetype": "text/x-python",
   "name": "python",
   "nbconvert_exporter": "python",
   "pygments_lexer": "ipython3",
   "version": "3.10.8"
  }
 },
 "nbformat": 4,
 "nbformat_minor": 5
}
