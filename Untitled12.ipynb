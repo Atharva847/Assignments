{
 "cells": [
  {
   "cell_type": "markdown",
   "id": "387e51dd-c311-412c-b7d3-be3881aef231",
   "metadata": {},
   "source": [
    "Q1. How can you create a Bokeh plot using Python code?"
   ]
  },
  {
   "cell_type": "code",
   "execution_count": null,
   "id": "df7d51e0-53ad-4cd6-ada7-cfa959d4b56e",
   "metadata": {},
   "outputs": [],
   "source": [
    "from bokeh.plotting import figure, output_file, show\n",
    "\n",
    "# Prepare data\n",
    "x = [1, 2, 3, 4, 5]\n",
    "y = [6, 7, 2, 4, 5]\n",
    "\n",
    "# Create a figure object\n",
    "p = figure(title=\"Simple Bokeh Example\", x_axis_label='X-Axis', y_axis_label='Y-Axis')\n",
    "\n",
    "# Add a line glyph\n",
    "p.line(x, y, legend_label=\"Line\", line_width=2)\n",
    "\n",
    "# Output to a static HTML file\n",
    "output_file(\"simple_bokeh_example.html\")\n",
    "\n",
    "# Show the plot\n",
    "show(p)\n"
   ]
  },
  {
   "cell_type": "markdown",
   "id": "96f4a2df-7e10-4014-8264-414fe805546d",
   "metadata": {},
   "source": [
    "Q2. What are glyphs in Bokeh, and how can you add them to a Bokeh plot? Explain with an example."
   ]
  },
  {
   "cell_type": "code",
   "execution_count": null,
   "id": "90547486-c5ed-4860-a3f9-fb7f441cf308",
   "metadata": {},
   "outputs": [],
   "source": [
    "'''\n",
    "Glyphs are the basic visual building blocks of Bokeh plots. They are the shapes like lines, circles, rectangles, etc., \n",
    "that represent data points. To add glyphs to a Bokeh plot, you use methods of the figure object.\n",
    "'''\n",
    "from bokeh.plotting import figure, show\n",
    "\n",
    "# Prepare data\n",
    "x = [1, 2, 3, 4, 5]\n",
    "y1 = [6, 7, 2, 4, 5]\n",
    "y2 = [3, 4, 5, 2, 1]\n",
    "\n",
    "# Create a figure object\n",
    "p = figure(title=\"Bokeh Glyph Example\", x_axis_label='X-Axis', y_axis_label='Y-Axis')\n",
    "\n",
    "# Add circle glyph\n",
    "p.circle(x, y1, size=10, color=\"navy\", alpha=0.5)\n",
    "\n",
    "# Add line glyph\n",
    "p.line(x, y2, legend_label=\"Line\", line_width=2, color=\"red\")\n",
    "\n",
    "# Show the plot\n",
    "show(p)\n"
   ]
  },
  {
   "cell_type": "markdown",
   "id": "7b2b280d-1e9d-4355-a940-dd2f6f909ec5",
   "metadata": {},
   "source": [
    "Q3. How can you customize the appearance of a Bokeh plot, including the axes, title, and legend?"
   ]
  },
  {
   "cell_type": "code",
   "execution_count": null,
   "id": "ea71545b-7c83-4e6a-b82d-611fa70cdf2e",
   "metadata": {},
   "outputs": [],
   "source": [
    "'''\n",
    "You can customize various aspects of a Bokeh plot such as the title, axes, legend, grid, and more. Here are some customization examples:\n",
    "'''\n",
    "from bokeh.plotting import figure, show\n",
    "\n",
    "# Prepare data\n",
    "x = [1, 2, 3, 4, 5]\n",
    "y = [6, 7, 2, 4, 5]\n",
    "\n",
    "# Create a figure object\n",
    "p = figure(title=\"Customized Bokeh Plot\", x_axis_label='X-Axis', y_axis_label='Y-Axis')\n",
    "\n",
    "# Add a line glyph\n",
    "p.line(x, y, legend_label=\"Line\", line_width=2)\n",
    "\n",
    "# Customize title\n",
    "p.title.text_font_size = '20pt'\n",
    "p.title.align = 'center'\n",
    "p.title.text_color = 'blue'\n",
    "\n",
    "# Customize axes\n",
    "p.xaxis.axis_label_text_color = 'green'\n",
    "p.xaxis.axis_label_standoff = 12\n",
    "p.yaxis.major_label_orientation = \"vertical\"\n",
    "\n",
    "# Customize legend\n",
    "p.legend.title = 'Legend'\n",
    "p.legend.label_text_font_size = '10pt'\n",
    "p.legend.border_line_color = 'black'\n",
    "p.legend.background_fill_color = 'lightgray'\n",
    "\n",
    "# Show the plot\n",
    "show(p)\n"
   ]
  },
  {
   "cell_type": "markdown",
   "id": "ef93a55a-5173-4fe7-b9b6-b249dabbd715",
   "metadata": {},
   "source": [
    "Q4. What is a Bokeh server, and how can you use it to create interactive plots that can be updated in\n",
    "real time?"
   ]
  },
  {
   "cell_type": "code",
   "execution_count": null,
   "id": "4f03e2b9-2c35-4d2f-95ee-c00afcca3abb",
   "metadata": {},
   "outputs": [],
   "source": [
    "'''\n",
    "A Bokeh server allows you to build interactive web applications with plots that can be updated in real-time based on user \n",
    "inputs or other events. It uses Python to drive the plot and respond to user interactions.\n",
    "\n",
    "'''\n",
    "from bokeh.io import curdoc\n",
    "from bokeh.models import ColumnDataSource\n",
    "from bokeh.plotting import figure\n",
    "from bokeh.layouts import column\n",
    "from bokeh.models.widgets import Slider\n",
    "\n",
    "# Prepare data\n",
    "source = ColumnDataSource(data=dict(x=[1, 2, 3, 4, 5], y=[6, 7, 2, 4, 5]))\n",
    "\n",
    "# Create a figure object\n",
    "p = figure(title=\"Bokeh Server Example\", x_axis_label='X-Axis', y_axis_label='Y-Axis')\n",
    "p.line('x', 'y', source=source, line_width=2)\n",
    "\n",
    "# Define a callback function to update the plot\n",
    "def update(attr, old, new):\n",
    "    scale = slider.value\n",
    "    new_y = [y * scale for y in source.data['y']]\n",
    "    source.data = dict(x=[1, 2, 3, 4, 5], y=new_y)\n",
    "\n",
    "# Create a slider widget\n",
    "slider = Slider(start=0.1, end=10, value=1, step=0.1, title=\"Scale\")\n",
    "slider.on_change('value', update)\n",
    "\n",
    "# Layout the plot and widget\n",
    "layout = column(slider, p)\n",
    "\n",
    "# Add the layout to the current document\n",
    "curdoc().add_root(layout)\n",
    "\n",
    "#to run\n",
    "bokeh serve --show main.py\n"
   ]
  },
  {
   "cell_type": "markdown",
   "id": "6bd912c9-e7b4-48c5-bf03-32bbd907b1e0",
   "metadata": {},
   "source": [
    "Q5. How can you embed a Bokeh plot into a web page or dashboard using Flask or Django?"
   ]
  },
  {
   "cell_type": "code",
   "execution_count": null,
   "id": "ec9086f9-002f-47e2-b356-d4a0e433d619",
   "metadata": {},
   "outputs": [],
   "source": [
    "'''\n",
    "Install Flask and Bokeh:\n",
    "pip install Flask bokeh\n",
    "\n",
    "Create a Flask app and embed the Bokeh plot:\n",
    "'''\n",
    "from flask import Flask, render_template_string\n",
    "from bokeh.embed import components\n",
    "from bokeh.plotting import figure\n",
    "\n",
    "app = Flask(__name__)\n",
    "\n",
    "@app.route('/')\n",
    "def index():\n",
    "    # Prepare data\n",
    "    x = [1, 2, 3, 4, 5]\n",
    "    y = [6, 7, 2, 4, 5]\n",
    "\n",
    "    # Create a figure object\n",
    "    p = figure(title=\"Flask Bokeh Embed\", x_axis_label='X-Axis', y_axis_label='Y-Axis')\n",
    "    p.line(x, y, legend_label=\"Line\", line_width=2)\n",
    "\n",
    "    # Embed plot\n",
    "    script, div = components(p)\n",
    "\n",
    "    # Render template\n",
    "    html = f\"\"\"\n",
    "    <!DOCTYPE html>\n",
    "    <html lang=\"en\">\n",
    "    <head>\n",
    "        <meta charset=\"UTF-8\">\n",
    "        <title>Bokeh Plot</title>\n",
    "        <link rel=\"stylesheet\" href=\"https://cdn.bokeh.org/bokeh/release/bokeh-2.4.3.min.css\">\n",
    "        <script src=\"https://cdn.bokeh.org/bokeh/release/bokeh-2.4.3.min.js\"></script>\n",
    "    </head>\n",
    "    <body>\n",
    "        {div}\n",
    "        {script}\n",
    "    </body>\n",
    "    </html>\n",
    "    \"\"\"\n",
    "    return render_template_string(html)\n",
    "\n",
    "if __name__ == '__main__':\n",
    "    app.run(debug=True)\n"
   ]
  }
 ],
 "metadata": {
  "kernelspec": {
   "display_name": "Python 3 (ipykernel)",
   "language": "python",
   "name": "python3"
  },
  "language_info": {
   "codemirror_mode": {
    "name": "ipython",
    "version": 3
   },
   "file_extension": ".py",
   "mimetype": "text/x-python",
   "name": "python",
   "nbconvert_exporter": "python",
   "pygments_lexer": "ipython3",
   "version": "3.10.8"
  }
 },
 "nbformat": 4,
 "nbformat_minor": 5
}
