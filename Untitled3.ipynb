{
 "cells": [
  {
   "cell_type": "markdown",
   "id": "3c9e445d-1988-45ed-8fcc-134b21e9fde2",
   "metadata": {},
   "source": [
    "\n",
    "Q1. What is an Exception in Python? Write the difference between Exceptions and Syntax errors."
   ]
  },
  {
   "cell_type": "code",
   "execution_count": null,
   "id": "3eab6a48-ab2b-4f7b-a044-f9748df9eda4",
   "metadata": {},
   "outputs": [],
   "source": [
    "'''\n",
    "In Python, an exception is an event that occurs during the execution of a program that disrupts the normal flow of instructions. \n",
    "Exceptions can occur for various reasons, such as invalid input, file not found, division by zero, etc.\n",
    "\n",
    "The difference between exceptions and syntax errors is that syntax errors occur when the parser detects an error in the syntax of the code, \n",
    "making it impossible to compile and execute, while exceptions occur during the execution of the program when something unexpected or erroneous \n",
    "happens, causing the program to terminate abruptly \n",
    "if not handled properly.\n",
    "'''"
   ]
  },
  {
   "cell_type": "markdown",
   "id": "bebb8118-6229-4d8d-9588-9defe9e9d513",
   "metadata": {},
   "source": [
    "Q2. What happens when an exception is not handled? Explain with an example."
   ]
  },
  {
   "cell_type": "code",
   "execution_count": null,
   "id": "61dea258-b974-4577-9057-c398b77ac4a5",
   "metadata": {},
   "outputs": [],
   "source": [
    "'''\n",
    "When an exception is not handled, it propagates up the call stack until it reaches the default exception handler, \n",
    "which terminates the program and prints a traceback of the exception. \n",
    "For example:\n",
    "'''\n",
    "def divide(a, b):\n",
    "    return a / b\n",
    "\n",
    "result = divide(10, 0)  # This will raise a ZeroDivisionError"
   ]
  },
  {
   "cell_type": "markdown",
   "id": "63781908-536a-428c-a3c3-cb0e9272fa87",
   "metadata": {},
   "source": [
    "Q3. Which Python statements are used to catch and handle exceptions? Explain with an example."
   ]
  },
  {
   "cell_type": "code",
   "execution_count": null,
   "id": "ad2af3f1-ca9f-4e97-bda5-16453de3a213",
   "metadata": {},
   "outputs": [],
   "source": [
    "'''\n",
    "Python uses try, except, finally, else, and raise statements to catch and handle exceptions.\n",
    "'''\n",
    "try:\n",
    "    result = 10 / 0  # This will raise a ZeroDivisionError\n",
    "except ZeroDivisionError:\n",
    "    print(\"Error: Division by zero\")"
   ]
  },
  {
   "cell_type": "markdown",
   "id": "bf5eab38-4cb6-4356-97b4-2fa597a710b5",
   "metadata": {},
   "source": [
    "Q4. Explain with an example: try, except, else, finally, and raise."
   ]
  },
  {
   "cell_type": "code",
   "execution_count": null,
   "id": "3471db0c-0df7-468a-8e38-c9ed76ee2f15",
   "metadata": {},
   "outputs": [],
   "source": [
    "try:\n",
    "    result = 10 / 0  # This will raise a ZeroDivisionError\n",
    "except ZeroDivisionError:\n",
    "    print(\"Error: Division by zero\")\n",
    "else:\n",
    "    print(\"No exceptions occurred\")\n",
    "finally:\n",
    "    print(\"Finally block executed regardless of exceptions\")\n",
    "    raise ValueError(\"This is a custom exception\")\n",
    "\n",
    "'''\n",
    "In this example:\n",
    "\n",
    "The try block attempts to execute the division operation.\n",
    "If a ZeroDivisionError occurs, the corresponding except block is executed.\n",
    "If no exceptions occur, the else block is executed.\n",
    "The finally block is executed regardless of whether an exception occurs or not. Here, \n",
    "it raises a ValueError as an example of using raise within finally.\n",
    "'''"
   ]
  },
  {
   "cell_type": "markdown",
   "id": "d1b11320-3239-47ed-854b-f0defa86d7b7",
   "metadata": {},
   "source": [
    "Q5. What are Custom Exceptions in Python? Why do we need Custom Exceptions? Explain with an example."
   ]
  },
  {
   "cell_type": "code",
   "execution_count": 1,
   "id": "f9df6405-9ae6-46d8-90ac-81ea04ed8099",
   "metadata": {},
   "outputs": [
    {
     "ename": "SyntaxError",
     "evalue": "incomplete input (2933842052.py, line 1)",
     "output_type": "error",
     "traceback": [
      "\u001b[0;36m  Cell \u001b[0;32mIn[1], line 1\u001b[0;36m\u001b[0m\n\u001b[0;31m    '''\u001b[0m\n\u001b[0m    ^\u001b[0m\n\u001b[0;31mSyntaxError\u001b[0m\u001b[0;31m:\u001b[0m incomplete input\n"
     ]
    }
   ],
   "source": [
    "'''\n",
    " Custom exceptions are user-defined exceptions that extend the built-in exception classes provided by Python. They allow developers to \n",
    " create specialized exception types tailored to their specific use cases.\n",
    "\n",
    "We need custom exceptions to handle situations that are not adequately addressed by built-in exception types. For example, if you are \n",
    "building an application that deals with file operations, you might want to create a custom exception class to handle file-related errors more \n",
    "specifically.\n",
    "'''\n",
    "class FileReadError(Exception):\n",
    "    pass\n",
    "\n",
    "try:\n",
    "    with open(\"nonexistent_file.txt\") as f:\n",
    "        contents = f.read()\n",
    "except FileNotFoundError:\n",
    "    raise FileReadError(\"Failed to read file: File not found\")"
   ]
  },
  {
   "cell_type": "markdown",
   "id": "213484e7-0c97-47bc-9d93-3bccde9a601e",
   "metadata": {},
   "source": [
    "Q6. Create a custom exception class. Use this class to handle an exception."
   ]
  },
  {
   "cell_type": "code",
   "execution_count": null,
   "id": "94f84215-d2a0-448f-8b16-8dbae15bf84f",
   "metadata": {},
   "outputs": [],
   "source": [
    "class CustomError(Exception):\n",
    "    pass\n",
    "\n",
    "try:\n",
    "    raise CustomError(\"This is a custom exception\")\n",
    "except CustomError as e:\n",
    "    print(\"Custom exception caught:\", e)\n",
    "    "
   ]
  }
 ],
 "metadata": {
  "kernelspec": {
   "display_name": "Python 3 (ipykernel)",
   "language": "python",
   "name": "python3"
  },
  "language_info": {
   "codemirror_mode": {
    "name": "ipython",
    "version": 3
   },
   "file_extension": ".py",
   "mimetype": "text/x-python",
   "name": "python",
   "nbconvert_exporter": "python",
   "pygments_lexer": "ipython3",
   "version": "3.10.8"
  }
 },
 "nbformat": 4,
 "nbformat_minor": 5
}
