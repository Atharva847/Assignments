{
 "cells": [
  {
   "cell_type": "markdown",
   "id": "da4cc3c9-8ac8-4601-80f9-0a6080a780f2",
   "metadata": {},
   "source": [
    "Q1. What is Abstraction in OOps? Explain with an example."
   ]
  },
  {
   "cell_type": "code",
   "execution_count": 1,
   "id": "3f2f6e06-0763-4c1d-9695-7bd8fc21dd8b",
   "metadata": {},
   "outputs": [
    {
     "name": "stdout",
     "output_type": "stream",
     "text": [
      "The mileage is 30kmph\n",
      "The mileage is 27kmph \n",
      "The mileage is 25kmph \n",
      "The mileage is 24kmph \n"
     ]
    }
   ],
   "source": [
    "'''\n",
    "In simple terms, abstraction “displays” only the relevant attributes of objects and “hides” the unnecessary details.\n",
    "\n",
    "'''\n",
    "\n",
    "# Python program demonstrate  \n",
    "# abstract base class work   \n",
    "from abc import ABC, abstractmethod   \n",
    "class Car(ABC):   \n",
    "    def mileage(self):   \n",
    "        pass  \n",
    "  \n",
    "class Tesla(Car):   \n",
    "    def mileage(self):   \n",
    "        print(\"The mileage is 30kmph\")   \n",
    "class Suzuki(Car):   \n",
    "    def mileage(self):   \n",
    "        print(\"The mileage is 25kmph \")   \n",
    "class Duster(Car):   \n",
    "     def mileage(self):   \n",
    "          print(\"The mileage is 24kmph \")   \n",
    "  \n",
    "class Renault(Car):   \n",
    "    def mileage(self):   \n",
    "            print(\"The mileage is 27kmph \")   \n",
    "          \n",
    "# Driver code   \n",
    "t= Tesla ()   \n",
    "t.mileage()   \n",
    "  \n",
    "r = Renault()   \n",
    "r.mileage()   \n",
    "  \n",
    "s = Suzuki()   \n",
    "s.mileage()   \n",
    "d = Duster()   \n",
    "d.mileage()  "
   ]
  },
  {
   "cell_type": "markdown",
   "id": "37ee90e8-500d-4b72-aabf-2414a082c0ab",
   "metadata": {},
   "source": [
    "Q2. Differentiate between Abstraction and Encapsulation. Explain with an example."
   ]
  },
  {
   "cell_type": "code",
   "execution_count": null,
   "id": "3c611e70-d5d5-4a08-9fdb-80d547043a0b",
   "metadata": {},
   "outputs": [],
   "source": [
    "'''\n",
    "\n",
    "Abstraction\n",
    "\n",
    "1.It is the process of gaining information.\n",
    "2.The problems in this technique are solved at the interface level.\n",
    "3.It helps hide the unwanted details/information.\n",
    "\n",
    "\n",
    "Encapsulation\n",
    "\n",
    "1.It is a method that helps wrap up data into a single module.\n",
    "2.Problems in encapsulation are solved at the implementation level.\n",
    "3.It helps hide data using a single entity, or using a unit with the help of method that helps protect the information.\n",
    "\n",
    "'''\n",
    "\n",
    "#Encapsulation\n",
    "\n",
    "class Stud:\n",
    "    \n",
    "    def __init__(self, name, rollno):\n",
    "        self.__name = name\n",
    "        self.__rollno = rollno\n",
    "        \n",
    "    def __return_data(self):\n",
    "        return self.__name, self.__rollno\n",
    "\n",
    "obj = Stud(\"Atharva\", 1)\n",
    "obj._Stud__return_data()\n",
    "\n",
    "\n",
    "#Abstraction\n",
    "from abc import ABC, abstractmethod   \n",
    "class Car(ABC):   \n",
    "    def mileage(self):   \n",
    "        pass  \n",
    "  \n",
    "class Tesla(Car):   \n",
    "    def mileage(self):   \n",
    "        print(\"The mileage is 30kmph\")   \n",
    "class Suzuki(Car):   \n",
    "    def mileage(self):   \n",
    "        print(\"The mileage is 25kmph \")   \n",
    "class Duster(Car):   \n",
    "     def mileage(self):   \n",
    "          print(\"The mileage is 24kmph \")   \n",
    "  \n",
    "class Renault(Car):   \n",
    "    def mileage(self):   \n",
    "            print(\"The mileage is 27kmph \")   \n",
    "          \n",
    "# Driver code   \n",
    "t= Tesla ()   \n",
    "t.mileage()   \n",
    "  \n",
    "r = Renault()   \n",
    "r.mileage()   \n",
    "  \n",
    "s = Suzuki()   \n",
    "s.mileage()   \n",
    "d = Duster()   \n",
    "d.mileage()  "
   ]
  },
  {
   "cell_type": "markdown",
   "id": "958c8f9e-a52a-4b95-a4f4-a728ca6ffafe",
   "metadata": {},
   "source": [
    "Q3. What is abc module in python? Why is it used?"
   ]
  },
  {
   "cell_type": "code",
   "execution_count": null,
   "id": "9fdd0ae6-f0ad-4d14-95c4-268a0ee11617",
   "metadata": {},
   "outputs": [],
   "source": [
    "'''\n",
    "This module provides the infrastructure for defining abstract base classes (ABCs) in Python\n",
    "\n",
    "What is the ABC module used for?\n",
    "The 'abc' module in Python library provides the infrastructure for defining custom abstract base classes.\n",
    "'''\n",
    "\n"
   ]
  },
  {
   "cell_type": "markdown",
   "id": "7088a5ae-c3cc-4682-bbae-e913e79fec44",
   "metadata": {},
   "source": [
    "Q4. How can we achieve data abstraction?"
   ]
  },
  {
   "cell_type": "code",
   "execution_count": null,
   "id": "9dbead3e-f592-4afb-af63-be0646d07575",
   "metadata": {},
   "outputs": [],
   "source": [
    "'''\n",
    "\n",
    "Define a class: Start by defining a class that represents the abstract data type you want to create. \n",
    "The class should encapsulate the relevant data and provide methods to manipulate that data.\n",
    "\n",
    "Hide internal details: Encapsulate the internal data and implementation details by using instance variables and methods with appropriate \n",
    "access modifiers. Use naming conventions such as underscores (_) to indicate that certain members are intended to be private.\n",
    "\n",
    "Provide a public interface: Define public methods that allow users to interact with the abstract data type. \n",
    "These methods should provide a high-level interface and hide the underlying implementation details.\n",
    "\n",
    "Create objects: Instantiate objects of the class to work with the abstract data type. \n",
    "Users can use the public methods to manipulate the data, while the internal details remain hidden.\n",
    "\n",
    "'''"
   ]
  },
  {
   "cell_type": "markdown",
   "id": "7da0a4b1-6174-4709-ab68-9f6f31c4fcd6",
   "metadata": {},
   "source": [
    "Q5. Can we create an instance of an abstract class? Explain your answer."
   ]
  },
  {
   "cell_type": "code",
   "execution_count": null,
   "id": "7af48a44-25b2-4c65-89be-d96b3bae1010",
   "metadata": {},
   "outputs": [],
   "source": [
    "'''\n",
    "In Python, you cannot create an instance of an abstract class directly. An abstract class is meant to be a blueprint for other \n",
    "classes to inherit from and provide their own implementations for the abstract methods defined in the abstract class.\n",
    "\n",
    "An abstract class in Python is created using the abc module, which stands for Abstract Base Classes. \n",
    "This module provides the ABC class as the base class for creating abstract classes and the abstractmethod decorator to define abstract methods.\n",
    "\n",
    "Here's an example that illustrates how to create an abstract class and why you cannot create an instance of it:\n",
    "'''\n",
    "\n",
    "from abc import ABC, abstractmethod\n",
    "\n",
    "class AbstractClass(ABC):\n",
    "    @abstractmethod\n",
    "    def abstract_method(self):\n",
    "        pass\n",
    "\n",
    "# Attempting to create an instance of the abstract class\n",
    "my_object = AbstractClass()  # Raises TypeError"
   ]
  },
  {
   "cell_type": "code",
   "execution_count": null,
   "id": "479631c0-69a7-4ddb-a3e7-0c6fd4a78a9e",
   "metadata": {},
   "outputs": [],
   "source": []
  }
 ],
 "metadata": {
  "kernelspec": {
   "display_name": "Python 3 (ipykernel)",
   "language": "python",
   "name": "python3"
  },
  "language_info": {
   "codemirror_mode": {
    "name": "ipython",
    "version": 3
   },
   "file_extension": ".py",
   "mimetype": "text/x-python",
   "name": "python",
   "nbconvert_exporter": "python",
   "pygments_lexer": "ipython3",
   "version": "3.10.8"
  }
 },
 "nbformat": 4,
 "nbformat_minor": 5
}
