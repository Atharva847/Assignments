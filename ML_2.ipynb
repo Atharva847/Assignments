{
 "cells": [
  {
   "cell_type": "markdown",
   "id": "fa703e12-e846-4128-b8ce-5af4e90d77b9",
   "metadata": {},
   "source": [
    "Q1: Define overfitting and underfitting in machine learning. What are the consequences of each, and how\n",
    "can they be mitigated?"
   ]
  },
  {
   "cell_type": "code",
   "execution_count": null,
   "id": "361c7880-0da0-47a1-b1ae-ca2092f4abd9",
   "metadata": {},
   "outputs": [],
   "source": [
    "'''\n",
    "\n",
    "Underfitting - A statistical model or a machine learning algorithm is said to have underfitting when a model is too simple\n",
    "to capture data complexities. It represents the inability of the model to learn the training data effectively result in poor\n",
    "performance both on the training and testing data.\n",
    "\n",
    "Overfitting - A statistical model is said to be overfitted when the model does not make accurate predictions on testing data. When a \n",
    "model gets trained with so much data, it starts learning from the noise and inaccurate data entries in our data set. \n",
    "And when testing with test data results in High variance.\n",
    "\n",
    "'''"
   ]
  },
  {
   "cell_type": "markdown",
   "id": "42cc2a0e-5786-4ad3-8049-a7dced4b210c",
   "metadata": {},
   "source": [
    "Q2: How can we reduce overfitting? Explain in brief."
   ]
  },
  {
   "cell_type": "code",
   "execution_count": null,
   "id": "66028d2f-3e8c-4dcf-b785-6b1ee6480d7c",
   "metadata": {},
   "outputs": [],
   "source": [
    "'''\n",
    "You can prevent overfitting by diversifying and scaling your training data set or using some other data science strategies, \n",
    "like those given below.\n",
    "Early stopping\n",
    "Early stopping pauses the training phase before the machine learning model learns the noise in the data. However, getting the \n",
    "timing right is important; else the model will still not give accurate results.\n",
    "Pruning\n",
    "You might identify several features or parameters that impact the final prediction when you build a model. Feature selection—or \n",
    "pruning—identifies the most important features within the training set and eliminates irrelevant ones. For example, to predict \n",
    "if an image is an animal or human, you can look at various input parameters like face shape, ear position, body structure, etc.\n",
    "You may prioritize face shape and ignore the shape of the eyes.\n",
    "Regularization\n",
    "Regularization is a collection of training/optimization techniques that seek to reduce overfitting. These methods try to eliminate\n",
    "those factors that do not impact the prediction outcomes by grading features based on importance. For example, mathematical \n",
    "calculations apply a penalty value to features with minimal impact. Consider a statistical model attempting to predict the \n",
    "housing prices of a city in 20 years. Regularization would give a lower penalty value to features like population growth and \n",
    "average annual income but a higher penalty value to the average annual temperature of the city.\n",
    "'''"
   ]
  },
  {
   "cell_type": "markdown",
   "id": "d44152fb-b888-410e-bd0d-67974db0e752",
   "metadata": {},
   "source": [
    "Q3: Explain underfitting. List scenarios where underfitting can occur in ML."
   ]
  },
  {
   "cell_type": "code",
   "execution_count": null,
   "id": "80707d99-a91f-42be-82de-e3e1adb37ab3",
   "metadata": {},
   "outputs": [],
   "source": [
    "'''\n",
    "A statistical model or a machine learning algorithm is said to have underfitting when a model is too simple to capture data complexities. \n",
    "It represents the inability of the model to learn the training data effectively result in poor performance both on the training and\n",
    "testing data. In simple terms, an underfit model’s are inaccurate, especially when applied to new, unseen examples. It mainly happens\n",
    "when we uses very simple model with overly simplified assumptions. To address underfitting problem of the model, we need to use more \n",
    "complex models, with enhanced feature representation, and less regularization.\n",
    "\n",
    "Note: The underfitting model has High bias and low variance.\n",
    "\n",
    "Reasons for Underfitting\n",
    "The model is too simple, So it may be not capable to represent the complexities in the data.\n",
    "The input features which is used to train the model is not the adequate representations of underlying factors influencing the \n",
    "target variable.\n",
    "The size of the training dataset used is not enough.\n",
    "Excessive regularization are used to prevent the overfitting, which constraint the model to capture the data well.\n",
    "Features are not scaled.\n",
    "'''"
   ]
  },
  {
   "cell_type": "markdown",
   "id": "bcd3dd68-7fd2-4a12-a665-f0a1f8d1e574",
   "metadata": {},
   "source": [
    "Q4: Explain the bias-variance tradeoff in machine learning. What is the relationship between bias and\n",
    "variance, and how do they affect model performance?"
   ]
  },
  {
   "cell_type": "code",
   "execution_count": null,
   "id": "caddb8d2-165e-4aff-b9a0-d8e7a5e87c96",
   "metadata": {},
   "outputs": [],
   "source": [
    "'''\n",
    "Bias represents the error due to overly simplistic assumptions in the learning algorithm.\n",
    "High bias can cause the model to underfit the data, leading to poor performance on both training and unseen data. \n",
    "Variance, on the other hand, reflects the model's sensitivity to small fluctuations in the training data.\n",
    "'''"
   ]
  },
  {
   "cell_type": "markdown",
   "id": "0dd0e89f-19c7-4838-8357-240ca884997a",
   "metadata": {},
   "source": [
    "Q5: Discuss some common methods for detecting overfitting and underfitting in machine learning models.\n",
    "How can you determine whether your model is overfitting or underfitting?"
   ]
  },
  {
   "cell_type": "code",
   "execution_count": null,
   "id": "5cfc17ef-062e-49f1-981d-9ad40dd24d36",
   "metadata": {},
   "outputs": [],
   "source": [
    "'''\n",
    "Understanding model fit is important for understanding the root cause for poor model accuracy. \n",
    "This understanding will guide you to take corrective steps. We can determine whether a predictive model is underfitting or overfitting \n",
    "the training data by looking at the prediction error on the training data and the evaluation data.\n",
    "'''"
   ]
  },
  {
   "cell_type": "markdown",
   "id": "aa92805f-6405-44c2-88b0-8263974eac96",
   "metadata": {},
   "source": [
    "Q6: What is regularization in machine learning, and how can it be used to prevent overfitting? Describe\n",
    "some common regularization techniques and how they work."
   ]
  },
  {
   "cell_type": "code",
   "execution_count": null,
   "id": "cccd358d-6b41-4e76-a1fb-f3710215a07c",
   "metadata": {},
   "outputs": [],
   "source": [
    "'''\n",
    "Regularization is a technique used to reduce errors by fitting the function appropriately on the given training set and\n",
    "avoiding overfitting. The commonly used regularization techniques are : \n",
    "\n",
    "Lasso Regularization – L1 Regularization\n",
    "Ridge Regularization – L2 Regularization\n",
    "Elastic Net Regularization – L1 and L2 Regularization\n",
    "'''"
   ]
  }
 ],
 "metadata": {
  "kernelspec": {
   "display_name": "Python 3 (ipykernel)",
   "language": "python",
   "name": "python3"
  },
  "language_info": {
   "codemirror_mode": {
    "name": "ipython",
    "version": 3
   },
   "file_extension": ".py",
   "mimetype": "text/x-python",
   "name": "python",
   "nbconvert_exporter": "python",
   "pygments_lexer": "ipython3",
   "version": "3.10.8"
  }
 },
 "nbformat": 4,
 "nbformat_minor": 5
}
