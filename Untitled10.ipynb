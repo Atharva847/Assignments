{
 "cells": [
  {
   "cell_type": "markdown",
   "id": "e83ad8b8-8f90-4ded-9af4-d2dd40f679bd",
   "metadata": {},
   "source": [
    "Que 1: Name any five plots that we can plot using the Seaborn library. Also, state the uses of each plot."
   ]
  },
  {
   "cell_type": "code",
   "execution_count": null,
   "id": "a9c49bf0-9a82-4a90-8070-2ea7bac3a46f",
   "metadata": {},
   "outputs": [],
   "source": [
    "'''\n",
    "Line Plot (sns.lineplot):\n",
    "\n",
    "Use: Displays data points connected by lines, useful for visualizing trends over time or a continuous variable.\n",
    "Example: Tracking the change in stock prices over time.\n",
    "Bar Plot (sns.barplot):\n",
    "\n",
    "Use: Shows the distribution of categorical data, using bars to represent the quantity of each category.\n",
    "Example: Comparing sales numbers across different product categories.\n",
    "Scatter Plot (sns.scatterplot):\n",
    "\n",
    "Use: Displays individual data points on two axes, useful for identifying relationships or correlations between two variables.\n",
    "Example: Examining the relationship between height and weight.\n",
    "Box Plot (sns.boxplot):\n",
    "\n",
    "Use: Visualizes the distribution of a dataset by showing the median, quartiles, and outliers, useful for identifying the spread and skewness.\n",
    "Example: Comparing the distribution of salaries across different job titles.\n",
    "Heatmap (sns.heatmap):\n",
    "\n",
    "Use: Uses color to represent data values in a matrix format, useful for displaying correlations, missing values, or any two-dimensional data.\n",
    "Example: Visualizing the correlation matrix of a dataset.\n",
    "'''"
   ]
  },
  {
   "cell_type": "markdown",
   "id": "6eb5d018-f97b-4316-b952-cb6be2aa9f40",
   "metadata": {},
   "source": [
    "Que 2: Load the \"fmri\" dataset using the load_dataset function of seaborn. Plot a line plot using x =\n",
    "\"timepoint\" and y = \"signal\" for different events and regions."
   ]
  },
  {
   "cell_type": "code",
   "execution_count": null,
   "id": "1764e274-7913-4c5f-9196-c55b55ff5bd3",
   "metadata": {},
   "outputs": [],
   "source": [
    "import seaborn as sns\n",
    "import matplotlib.pyplot as plt\n",
    "\n",
    "# Load the fmri dataset\n",
    "fmri = sns.load_dataset(\"fmri\")\n",
    "\n",
    "# Plot the line plot\n",
    "plt.figure(figsize=(10, 6))\n",
    "sns.lineplot(data=fmri, x=\"timepoint\", y=\"signal\", hue=\"event\", style=\"region\")\n",
    "plt.title(\"FMRI: Signal Over Time by Event and Region\")\n",
    "plt.xlabel(\"Timepoint\")\n",
    "plt.ylabel(\"Signal\")\n",
    "plt.legend(title=\"Event and Region\")\n",
    "plt.show()\n"
   ]
  },
  {
   "cell_type": "markdown",
   "id": "59f34b02-4a3d-4a1d-9bc3-cc263b8e12e2",
   "metadata": {},
   "source": [
    "Que 3: Load the \"titanic\" dataset using the load_dataset function of seaborn. Plot two box plots using x =\n",
    "'pclass', y = 'age' and y = 'fare'."
   ]
  },
  {
   "cell_type": "code",
   "execution_count": null,
   "id": "5f9ca015-bba2-49bd-81fe-eeb38b62fd30",
   "metadata": {},
   "outputs": [],
   "source": [
    "# Load the titanic dataset\n",
    "titanic = sns.load_dataset(\"titanic\")\n",
    "\n",
    "# Plot the box plots\n",
    "plt.figure(figsize=(14, 6))\n",
    "\n",
    "plt.subplot(1, 2, 1)\n",
    "sns.boxplot(data=titanic, x='pclass', y='age')\n",
    "plt.title(\"Age Distribution by Passenger Class\")\n",
    "plt.xlabel(\"Passenger Class\")\n",
    "plt.ylabel(\"Age\")\n",
    "\n",
    "plt.subplot(1, 2, 2)\n",
    "sns.boxplot(data=titanic, x='pclass', y='fare')\n",
    "plt.title(\"Fare Distribution by Passenger Class\")\n",
    "plt.xlabel(\"Passenger Class\")\n",
    "plt.ylabel(\"Fare\")\n",
    "\n",
    "plt.tight_layout()\n",
    "plt.show()\n"
   ]
  },
  {
   "cell_type": "markdown",
   "id": "2ec0d968-518c-49c2-9390-a877ceaa7a8a",
   "metadata": {},
   "source": [
    "Que 4: Use the \"diamonds\" dataset from seaborn to plot a histogram for the 'price' column. Use the hue\n",
    "parameter for the 'cut' column of the diamonds dataset."
   ]
  },
  {
   "cell_type": "code",
   "execution_count": null,
   "id": "6b03f736-88a9-4273-b040-e802af9c3aae",
   "metadata": {},
   "outputs": [],
   "source": [
    "# Load the diamonds dataset\n",
    "diamonds = sns.load_dataset(\"diamonds\")\n",
    "\n",
    "# Plot the histogram\n",
    "plt.figure(figsize=(10, 6))\n",
    "sns.histplot(data=diamonds, x='price', hue='cut', multiple='stack')\n",
    "plt.title(\"Price Distribution of Diamonds by Cut\")\n",
    "plt.xlabel(\"Price\")\n",
    "plt.ylabel(\"Count\")\n",
    "plt.legend(title=\"Cut\")\n",
    "plt.show()\n"
   ]
  },
  {
   "cell_type": "markdown",
   "id": "6ac52e1e-5be2-4731-84b2-bec1be417163",
   "metadata": {},
   "source": [
    "Que 5: Use the \"iris\" dataset from seaborn to plot a pair plot. Use the hue parameter for the \"species\" column\n",
    "of the iris dataset."
   ]
  },
  {
   "cell_type": "code",
   "execution_count": null,
   "id": "4d589322-f442-49c6-8507-1933e7471a22",
   "metadata": {},
   "outputs": [],
   "source": [
    "# Load the iris dataset\n",
    "iris = sns.load_dataset(\"iris\")\n",
    "\n",
    "# Plot the pair plot\n",
    "sns.pairplot(iris, hue='species')\n",
    "plt.suptitle(\"Pair Plot of Iris Dataset\", y=1.02)\n",
    "plt.show()\n"
   ]
  },
  {
   "cell_type": "code",
   "execution_count": null,
   "id": "91602e26-4b26-4438-90a0-e3edc5cb14d1",
   "metadata": {},
   "outputs": [],
   "source": [
    "Que 6: Use the \"flights\" dataset from seaborn to plot a heatmap."
   ]
  }
 ],
 "metadata": {
  "kernelspec": {
   "display_name": "Python 3 (ipykernel)",
   "language": "python",
   "name": "python3"
  },
  "language_info": {
   "codemirror_mode": {
    "name": "ipython",
    "version": 3
   },
   "file_extension": ".py",
   "mimetype": "text/x-python",
   "name": "python",
   "nbconvert_exporter": "python",
   "pygments_lexer": "ipython3",
   "version": "3.10.8"
  }
 },
 "nbformat": 4,
 "nbformat_minor": 5
}
