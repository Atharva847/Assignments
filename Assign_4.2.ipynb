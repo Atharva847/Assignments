{
 "cells": [
  {
   "cell_type": "markdown",
   "id": "34527e44-461d-4f6f-a656-f3dcd90658d7",
   "metadata": {},
   "source": [
    "Q1. Explain Class and Object with respect to Object-Oriented Programming. Give a suitable example."
   ]
  },
  {
   "cell_type": "code",
   "execution_count": 1,
   "id": "14500f1b-58d4-478d-b261-0ed06051598a",
   "metadata": {},
   "outputs": [
    {
     "data": {
      "text/plain": [
       "('Atharva', 1, 'AISSMS')"
      ]
     },
     "execution_count": 1,
     "metadata": {},
     "output_type": "execute_result"
    }
   ],
   "source": [
    "'''\n",
    "Class is a blueprint where it is a collection of objects.\n",
    "Object is the instance of a class.\n",
    "\n",
    "'''\n",
    "\n",
    "#class\n",
    "class Student:\n",
    "    \n",
    "    def __init__(self, name, roll_no, clg_name):\n",
    "        self.name = name\n",
    "        self.roll_no = roll_no\n",
    "        self.clg_name = clg_name\n",
    "    \n",
    "    def return_data(self):\n",
    "        return self.name, self.roll_no, self.clg_name\n",
    "\n",
    "#object\n",
    "obj = Student(\"Atharva\", 1, \"AISSMS\")\n",
    "obj.return_data()"
   ]
  },
  {
   "cell_type": "markdown",
   "id": "6eb5a0cc-8b7f-4a38-8ec6-d483d33151ae",
   "metadata": {},
   "source": [
    "Q2. Name the four pillars of OOPs."
   ]
  },
  {
   "cell_type": "code",
   "execution_count": 2,
   "id": "0df0b0d3-6393-4fec-ab09-a61efebaf3ce",
   "metadata": {},
   "outputs": [
    {
     "data": {
      "text/plain": [
       "'\\n1. Encapsulation\\n2. Polymorphism\\n3. Abstraction\\n4. Inheritance\\n\\n'"
      ]
     },
     "execution_count": 2,
     "metadata": {},
     "output_type": "execute_result"
    }
   ],
   "source": [
    "'''\n",
    "1. Encapsulation\n",
    "2. Polymorphism\n",
    "3. Abstraction\n",
    "4. Inheritance\n",
    "\n",
    "'''"
   ]
  },
  {
   "cell_type": "markdown",
   "id": "796630c0-0448-4d74-b87a-5417208fee5f",
   "metadata": {},
   "source": [
    "Q3. Explain why the __init__() function is used. Give a suitable example."
   ]
  },
  {
   "cell_type": "code",
   "execution_count": 3,
   "id": "a86dd26e-2e71-4235-a8d6-cdc0946f84ab",
   "metadata": {},
   "outputs": [
    {
     "data": {
      "text/plain": [
       "('Atharva', 1, 'AISSMS')"
      ]
     },
     "execution_count": 3,
     "metadata": {},
     "output_type": "execute_result"
    }
   ],
   "source": [
    "'''\n",
    "init() method is used to initialize the attributes of the class\n",
    "'''\n",
    "\n",
    "class Student:\n",
    "    \n",
    "    def __init__(self, name, roll_no, clg_name):\n",
    "        self.name = name\n",
    "        self.roll_no = roll_no\n",
    "        self.clg_name = clg_name\n",
    "    \n",
    "    def return_data(self):\n",
    "        return self.name, self.roll_no, self.clg_name\n",
    "\n",
    "obj = Student(\"Atharva\", 1, \"AISSMS\")\n",
    "obj.return_data()"
   ]
  },
  {
   "cell_type": "markdown",
   "id": "a9106814-cf52-48d1-93b9-34622751b389",
   "metadata": {},
   "source": [
    "Q4. Why self is used in OOPs?"
   ]
  },
  {
   "cell_type": "code",
   "execution_count": 4,
   "id": "29eb255d-1af4-42ee-95c8-8fca3dd8d9ce",
   "metadata": {},
   "outputs": [
    {
     "data": {
      "text/plain": [
       "'\\n\\nself is used to access attributes and methods\\n\\n'"
      ]
     },
     "execution_count": 4,
     "metadata": {},
     "output_type": "execute_result"
    }
   ],
   "source": [
    "'''\n",
    "\n",
    "self is used to access attributes and methods\n",
    "\n",
    "'''\n",
    "\n"
   ]
  },
  {
   "cell_type": "markdown",
   "id": "906954af-a302-41a3-8f07-a2e936c58846",
   "metadata": {},
   "source": [
    "Q5. What is inheritance? Give an example for each type of inheritance."
   ]
  },
  {
   "cell_type": "code",
   "execution_count": 5,
   "id": "491a78dd-e49a-462b-9db4-9b0d0f0c4880",
   "metadata": {},
   "outputs": [
    {
     "data": {
      "text/plain": [
       "'\\n\\nInheritance is used to access the properties of parent class\\n\\n'"
      ]
     },
     "execution_count": 5,
     "metadata": {},
     "output_type": "execute_result"
    }
   ],
   "source": [
    "'''\n",
    "\n",
    "Inheritance is used to access the properties of parent class\n",
    "\n",
    "'''\n"
   ]
  },
  {
   "cell_type": "code",
   "execution_count": 5,
   "id": "82a09cd7-e15d-45a0-8439-a6177a07fa92",
   "metadata": {},
   "outputs": [
    {
     "data": {
      "text/plain": [
       "'Hey'"
      ]
     },
     "execution_count": 5,
     "metadata": {},
     "output_type": "execute_result"
    }
   ],
   "source": [
    "#Single Inheritance\n",
    "\n",
    "class Main:\n",
    "    \n",
    "    def Hello(self):\n",
    "        return \"Hello world\"\n",
    "    \n",
    "class Sub(Main):\n",
    "    \n",
    "    def hey(self):\n",
    "        return \"Hey\"\n",
    "    \n",
    "obj = Sub()\n",
    "obj.Hello()\n",
    "# obj.hey()"
   ]
  },
  {
   "cell_type": "code",
   "execution_count": 8,
   "id": "5b26d0c6-58ec-4d32-b18c-0fb6845e536c",
   "metadata": {},
   "outputs": [
    {
     "data": {
      "text/plain": [
       "3"
      ]
     },
     "execution_count": 8,
     "metadata": {},
     "output_type": "execute_result"
    }
   ],
   "source": [
    "#Multiple Inheritance\n",
    "\n",
    "class Father:\n",
    "    \n",
    "    def parent1(self,a,b):\n",
    "        return a+b\n",
    "    \n",
    "class Mother:\n",
    "    \n",
    "    def parent2(self,c,d):\n",
    "        return c*d\n",
    "\n",
    "class Child(Father, Mother):\n",
    "    \n",
    "    def return_data(self):\n",
    "        pass\n",
    "\n",
    "obj = Child()\n",
    "obj.parent1(1,2)\n",
    "# obj.parent2(1,2)\n"
   ]
  },
  {
   "cell_type": "code",
   "execution_count": 9,
   "id": "71e5f8d5-95eb-4ed3-b473-8d11396a75ae",
   "metadata": {},
   "outputs": [
    {
     "data": {
      "text/plain": [
       "'This is child'"
      ]
     },
     "execution_count": 9,
     "metadata": {},
     "output_type": "execute_result"
    }
   ],
   "source": [
    "#Multilevel Inheritance\n",
    "\n",
    "class GrandFather:\n",
    "    \n",
    "    def A(self):\n",
    "        return \"This is Grandfather\"\n",
    "\n",
    "class Father(GrandFather):\n",
    "    \n",
    "    def B(self):\n",
    "        return \"This is Father\"\n",
    "\n",
    "class Child(Father):\n",
    "    \n",
    "    def C(self):\n",
    "        return \"This is child\"\n",
    "\n",
    "obj = Child()\n",
    "obj.A()\n",
    "obj.B()\n",
    "obj.C()"
   ]
  },
  {
   "cell_type": "code",
   "execution_count": null,
   "id": "eea1009f-5e7e-402f-b7cf-b11e316b2f14",
   "metadata": {},
   "outputs": [],
   "source": []
  }
 ],
 "metadata": {
  "kernelspec": {
   "display_name": "Python 3 (ipykernel)",
   "language": "python",
   "name": "python3"
  },
  "language_info": {
   "codemirror_mode": {
    "name": "ipython",
    "version": 3
   },
   "file_extension": ".py",
   "mimetype": "text/x-python",
   "name": "python",
   "nbconvert_exporter": "python",
   "pygments_lexer": "ipython3",
   "version": "3.10.8"
  }
 },
 "nbformat": 4,
 "nbformat_minor": 5
}
