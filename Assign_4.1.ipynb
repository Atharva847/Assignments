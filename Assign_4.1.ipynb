{
 "cells": [
  {
   "cell_type": "markdown",
   "id": "bdb544a9-36b8-46ab-8a43-03644e895928",
   "metadata": {},
   "source": [
    "Q1, Create a vehicle class with an init method having instance variables as name_of_vehicle, max_speed\n",
    "and average_of_vehicle. "
   ]
  },
  {
   "cell_type": "code",
   "execution_count": 2,
   "id": "e5d85968-8467-4742-9afc-63b65c6eb3f5",
   "metadata": {},
   "outputs": [
    {
     "data": {
      "text/plain": [
       "('Tesla', 250, 70)"
      ]
     },
     "execution_count": 2,
     "metadata": {},
     "output_type": "execute_result"
    }
   ],
   "source": [
    "class Vehicle:\n",
    "    \n",
    "    def __init__(self, name_of_vehicle, max_speed, average_of_vehicle):\n",
    "        self.name_of_vehicle = str(name_of_vehicle)\n",
    "        self.max_speed = int(max_speed)\n",
    "        self.average_of_vehicle = int(average_of_vehicle)\n",
    "        \n",
    "    def return_data(self):\n",
    "        return self.name_of_vehicle , self.max_speed , self.average_of_vehicle\n",
    "    \n",
    "obj = Vehicle(\"Tesla\", 250, 70)\n",
    "obj.return_data()"
   ]
  },
  {
   "cell_type": "markdown",
   "id": "3978cff4-cd69-4d51-9621-e344b61dc811",
   "metadata": {},
   "source": [
    "Q2.  Create a child class car from the vehicle class created in Que 1, which will inherit the vehicle class.\n",
    "Create a method named seating_capacity which takes capacity as an argument and returns the name of\n",
    "the vehicle and its seating capacity."
   ]
  },
  {
   "cell_type": "code",
   "execution_count": 15,
   "id": "914507fc-86fd-4133-9d00-90c68f34c1e2",
   "metadata": {},
   "outputs": [
    {
     "name": "stdout",
     "output_type": "stream",
     "text": [
      "Tesla\n",
      "20\n"
     ]
    }
   ],
   "source": [
    "class Vehicle:\n",
    "    \n",
    "    def __init__(self, name_of_vehicle, max_speed, average_of_vehicle):\n",
    "        self.name_of_vehicle = str(name_of_vehicle)\n",
    "        self.max_speed = int(max_speed)\n",
    "        self.average_of_vehicle = int(average_of_vehicle)\n",
    "        \n",
    "class Car(Vehicle):\n",
    "    \n",
    "    def seating_capacity(self, capacity):\n",
    "        return capacity \n",
    "    \n",
    "obj = Car(\"Tesla\", 250, 70)\n",
    "print(obj.name_of_vehicle)\n",
    "print(obj.seating_capacity(20))"
   ]
  },
  {
   "cell_type": "markdown",
   "id": "61bad3e4-c2fd-44b2-9dfb-9ae194a5add4",
   "metadata": {},
   "source": [
    "Q3. What is multiple inheritance? Write a python code to demonstrate multiple inheritance."
   ]
  },
  {
   "cell_type": "code",
   "execution_count": null,
   "id": "97896a0d-8ff4-470b-bdb0-dc248f47aef9",
   "metadata": {},
   "outputs": [],
   "source": [
    "'''\n",
    "\n",
    "A child class that inherits more than 1 class is called multiple inheritance.\n",
    "\n",
    "\n",
    "'''\n",
    "\n",
    "class Father:\n",
    "    \n",
    "    def method_father(self):\n",
    "        return \"This is a method of Father class\"\n",
    "    \n",
    "    \n",
    "    \n",
    "class Mother:\n",
    "    \n",
    "    def method_mother(self):\n",
    "        return \"This is a method of Mother class\"\n",
    "    \n",
    "    \n",
    "    \n",
    "class Child(Father, Mother):\n",
    "    def method_child(self):\n",
    "        return \"This is a method of Child class\"\n",
    "    \n",
    "    \n",
    "obj = Child()\n",
    "print(obj.method_father())\n",
    "print(obj.method_mother())\n"
   ]
  },
  {
   "cell_type": "markdown",
   "id": "0480c26d-5299-4ff6-835b-1e1ab58e3556",
   "metadata": {},
   "source": [
    "Q4. What are getter and setter in python? Create a class and create a getter and a setter method in this\n",
    "class."
   ]
  },
  {
   "cell_type": "code",
   "execution_count": 1,
   "id": "8d6d8cf9-a561-456e-88be-a05f827cb92e",
   "metadata": {},
   "outputs": [
    {
     "name": "stdout",
     "output_type": "stream",
     "text": [
      "21\n",
      "21\n"
     ]
    }
   ],
   "source": [
    "'''\n",
    "To achieve getters & setters property, if we define normal get() and set() methods it will not reflect any special implementation. For Example\n",
    "'''\n",
    "\n",
    "class Geek:\n",
    "    def __init__(self, age = 0):\n",
    "         self._age = age\n",
    "      \n",
    "    # getter method\n",
    "    def get_age(self):\n",
    "        return self._age\n",
    "      \n",
    "    # setter method\n",
    "    def set_age(self, x):\n",
    "        self._age = x\n",
    "  \n",
    "raj = Geek()\n",
    "  \n",
    "# setting the age using setter\n",
    "raj.set_age(21)\n",
    "  \n",
    "# retrieving age using getter\n",
    "print(raj.get_age())\n",
    "  \n",
    "print(raj._age)"
   ]
  },
  {
   "cell_type": "markdown",
   "id": "e4f49d3f-a08c-448e-b64f-b58d556c3933",
   "metadata": {},
   "source": [
    "Q5.What is method overriding in python? Write a python code to demonstrate method overriding."
   ]
  },
  {
   "cell_type": "code",
   "execution_count": null,
   "id": "fd1189e6-f363-4617-b5f3-fe01147c917f",
   "metadata": {},
   "outputs": [],
   "source": [
    "'''\n",
    "Method overriding is an ability of any object-oriented programming language that allows a subclass or child class to provide a specific \n",
    "implementation of a method that is already provided by one of its super-classes or parent classes.\n",
    "'''\n",
    "\n"
   ]
  }
 ],
 "metadata": {
  "kernelspec": {
   "display_name": "Python 3 (ipykernel)",
   "language": "python",
   "name": "python3"
  },
  "language_info": {
   "codemirror_mode": {
    "name": "ipython",
    "version": 3
   },
   "file_extension": ".py",
   "mimetype": "text/x-python",
   "name": "python",
   "nbconvert_exporter": "python",
   "pygments_lexer": "ipython3",
   "version": "3.10.8"
  }
 },
 "nbformat": 4,
 "nbformat_minor": 5
}
