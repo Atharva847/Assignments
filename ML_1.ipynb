{
 "cells": [
  {
   "cell_type": "markdown",
   "id": "955d56a5-1f0a-4ec5-aeac-3584bf143f00",
   "metadata": {},
   "source": [
    "Q1"
   ]
  },
  {
   "cell_type": "code",
   "execution_count": null,
   "id": "a13ef698-c078-4aa3-85b9-03bf8d5c0041",
   "metadata": {},
   "outputs": [],
   "source": [
    "'''\n",
    "\n",
    "Artificial Intelligence - AI is an intelligence that automates the tasks without human intervention.\n",
    "Eg - self driving cars , AI assistants\n",
    "\n",
    "Machine Learning - ML is a subset of AI where it develops the algorithms and models by training the datasets using large amount of data.\n",
    "Eg - Recommendation systems, Object detection\n",
    "\n",
    "Deep Learning - Deep learning is a branch of machine learning which is based on artificial neural networks. \n",
    "It is capable of learning complex patterns and relationships within data.\n",
    "Eg - speech recognition , face recognition\n",
    "\n",
    "'''"
   ]
  },
  {
   "cell_type": "markdown",
   "id": "e6f4a228-cb95-4ac8-a555-aa81a39c2954",
   "metadata": {},
   "source": [
    "Q2"
   ]
  },
  {
   "cell_type": "code",
   "execution_count": null,
   "id": "0a29de4e-7d09-433f-bc04-a16f356a746f",
   "metadata": {},
   "outputs": [],
   "source": [
    "'''\n",
    "\n",
    "In Supervised learning we teach or train the machines using data.\n",
    "After that, the machine is provided with a new set of examples(data) so that the supervised learning algorithm \n",
    "analyses the training data(set of training examples) \n",
    "and produces a correct outcome from labeled data.\n",
    "Eg - spam detection, object detection\n",
    "'''"
   ]
  },
  {
   "cell_type": "markdown",
   "id": "61c4a280-57c5-4d1c-8c96-b067280cffe0",
   "metadata": {},
   "source": [
    "Q3"
   ]
  },
  {
   "cell_type": "code",
   "execution_count": null,
   "id": "f0f70090-1168-4d6c-891c-c4647877789c",
   "metadata": {},
   "outputs": [],
   "source": [
    "'''\n",
    "\n",
    "In this data is not trained and well-labelled, so computer don't know what exactly he wants to categorized.\n",
    "Eg - if there is a photo, in that there are some cats and dogs. So computer have to categorized the cats and dogs. It follows the patterns \n",
    "to recognize the animals and group them using clustering method.\n",
    "\n",
    "'''"
   ]
  },
  {
   "cell_type": "markdown",
   "id": "a13a4af5-0566-4582-9d0b-e76d094d4721",
   "metadata": {},
   "source": [
    "Q4"
   ]
  },
  {
   "cell_type": "code",
   "execution_count": null,
   "id": "0d271fce-ffda-4752-9d99-b7614ec2d23a",
   "metadata": {},
   "outputs": [],
   "source": [
    "'''\n",
    "\n",
    "AI - Uses decision trees, logic, and statistical data to mimic human intelligence.Requires higher computational power to make machines\n",
    "acquire human-level intelligence\n",
    "\n",
    "ML - Machine Learning is the subsection of artificial intelligence based on algorithms and data usage. Machine learning requires \n",
    "complex math and a lot of coding to achieve the desired results.\n",
    "\n",
    "DL - Deep learning is a subfield of artificial intelligence. It uses a multi-layered structure of algorithms called a neural network.\n",
    "DL algorithms also need data to learn and solve problems. We can also call it a subfield of machine learning. \n",
    "\n",
    "DS - Data science is a discipline that uses various technologies and methods to analyze data. \n",
    "It combines computational science, statistics, mathematics, and company or business knowledge.\n",
    "\n",
    "'''"
   ]
  },
  {
   "cell_type": "markdown",
   "id": "ecaa3404-4602-4616-b0e3-643f722a8a19",
   "metadata": {},
   "source": [
    "Q5"
   ]
  },
  {
   "cell_type": "code",
   "execution_count": null,
   "id": "3ea4a744-64ba-48bc-aa55-27e90128ec56",
   "metadata": {},
   "outputs": [],
   "source": [
    "'''\n",
    "\n",
    "In Supervised learning we teach or train the machines using data.\n",
    "After that, the machine is provided with a new set of examples(data) so that the supervised learning algorithm \n",
    "analyses the training data(set of training examples) \n",
    "and produces a correct outcome from labeled data.\n",
    "Eg - spam detection, object detection\n",
    "\n",
    "In unsupervised learning, data is not trained and well-labelled, so computer don't know what exactly he wants to categorized.\n",
    "Eg - if there is a photo, in that there are some cats and dogs. So computer have to categorized the cats and dogs. It follows the patterns \n",
    "to recognize the animals and group them using clustering method.\n",
    "\n",
    "Semi supervised is the combination of Supervised learning and unsupervised learning. It can used both unlabelled data or labelled data to \n",
    "improve the accuracy of the output.\n",
    "\n",
    "'''"
   ]
  },
  {
   "cell_type": "markdown",
   "id": "3e3aa18e-f2b3-45fb-9c3e-204c30d722ac",
   "metadata": {},
   "source": [
    "Q6"
   ]
  },
  {
   "cell_type": "code",
   "execution_count": null,
   "id": "092d2119-c1b4-428c-92e8-78addd6b3235",
   "metadata": {},
   "outputs": [],
   "source": [
    "'''\n",
    "\n",
    "Train - In train split, the data is trained to develop a model with high accuracy.If it is not train the output may be different with low \n",
    "accuracy.\n",
    "\n",
    "Validation - In this, the models uses more external data to produce more accurate outputs.\n",
    "\n",
    "Test - In this the models which are created from training the datasets is tested to check whether it gives correct output or not and also \n",
    "to check the accuracy of the output.\n",
    "\n",
    "'''"
   ]
  },
  {
   "cell_type": "markdown",
   "id": "0342315e-1955-4435-99d5-978cb644a9f3",
   "metadata": {},
   "source": [
    "Q7"
   ]
  },
  {
   "cell_type": "code",
   "execution_count": null,
   "id": "292427f8-7619-4abe-b79f-f8f6efc3c64c",
   "metadata": {},
   "outputs": [],
   "source": [
    "'''\n",
    "\n",
    "\n",
    "All collaborative articles  Business Administration  Data Analysis\n",
    "How do you interpret and explain the results of anomaly detection with unsupervised learning?\n",
    "Powered by AI and the LinkedIn community\n",
    "Unsupervised learning is a type of machine learning that does not rely on labeled data to find patterns or \n",
    "clusters in the data. One of the applications of unsupervised learning is anomaly detection, which is the task\n",
    "of identifying outliers or abnormal instances in the data.\n",
    "\n",
    "'''"
   ]
  },
  {
   "cell_type": "markdown",
   "id": "3bf49752-8a3f-4345-922f-d8bc3f171f70",
   "metadata": {},
   "source": [
    "Q8"
   ]
  },
  {
   "cell_type": "code",
   "execution_count": null,
   "id": "b56317b3-bf62-43a9-a271-b8025b582055",
   "metadata": {},
   "outputs": [],
   "source": [
    "'''\n",
    "\n",
    "Supervised learning deals with or learns with “labeled” data. This implies that some data is already tagged with the correct answer.\n",
    "\n",
    "Types:-\n",
    "\n",
    "Regression\n",
    "Logistic Regression\n",
    "Classification\n",
    "Naive Bayes Classifiers\n",
    "K-NN (k nearest neighbors)\n",
    "Decision Trees\n",
    "Support Vector Machine\n",
    "\n",
    "\n",
    "Types of Unsupervised Learning:-\n",
    "\n",
    "Clustering\n",
    "\n",
    "Exclusive (partitioning)\n",
    "Agglomerative\n",
    "Overlapping\n",
    "Probabilistic\n",
    "Clustering Types:-\n",
    "\n",
    "Hierarchical clustering\n",
    "K-means clustering\n",
    "Principal Component Analysis\n",
    "Singular Value Decomposition\n",
    "Independent Component Analysis\n",
    "\n",
    "'''"
   ]
  }
 ],
 "metadata": {
  "kernelspec": {
   "display_name": "Python 3 (ipykernel)",
   "language": "python",
   "name": "python3"
  },
  "language_info": {
   "codemirror_mode": {
    "name": "ipython",
    "version": 3
   },
   "file_extension": ".py",
   "mimetype": "text/x-python",
   "name": "python",
   "nbconvert_exporter": "python",
   "pygments_lexer": "ipython3",
   "version": "3.10.8"
  }
 },
 "nbformat": 4,
 "nbformat_minor": 5
}
