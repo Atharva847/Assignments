{
 "cells": [
  {
   "cell_type": "markdown",
   "id": "aa65b21c-0fa5-4d94-ae98-3d28267a105e",
   "metadata": {},
   "source": [
    "Q1. Which keyword is used to create a function? Create a function to return a list of odd numbers in the\n",
    "range of 1 to 25."
   ]
  },
  {
   "cell_type": "code",
   "execution_count": 4,
   "id": "a30b9150-56a3-4613-8649-0098c4cc8bf4",
   "metadata": {},
   "outputs": [
    {
     "data": {
      "text/plain": [
       "[1, 3, 5, 7, 9, 11, 13, 15, 17, 19, 21, 23, 25]"
      ]
     },
     "execution_count": 4,
     "metadata": {},
     "output_type": "execute_result"
    }
   ],
   "source": [
    "''' def --> keyword is used to create a function. Below is the example.'''\n",
    "\n",
    "def lis():\n",
    "    a=[]\n",
    "    for i in range(26):\n",
    "        if i%2==1:\n",
    "            a.append(i)\n",
    "    return a\n",
    "lis()"
   ]
  },
  {
   "cell_type": "markdown",
   "id": "8f5a0dc7-33f2-46be-8283-1700c65e330f",
   "metadata": {},
   "source": [
    "Q2. Why *args and **kwargs is used in some functions? Create a function each for *args and **kwargs\n",
    "to demonstrate their use."
   ]
  },
  {
   "cell_type": "code",
   "execution_count": 9,
   "id": "1c8245c2-0613-44d0-aac7-3c45de4ba84d",
   "metadata": {},
   "outputs": [
    {
     "data": {
      "text/plain": [
       "'a'"
      ]
     },
     "execution_count": 9,
     "metadata": {},
     "output_type": "execute_result"
    }
   ],
   "source": [
    "''' *args are used to pass multiple arguments in the fucntion without defining them. '''\n",
    "\n",
    "\n",
    "def arg(*args):\n",
    "    return args\n",
    "arg(\"hello\",1,2,3)"
   ]
  },
  {
   "cell_type": "code",
   "execution_count": 13,
   "id": "bd644945-595e-4cff-92cc-4271dd6622d4",
   "metadata": {},
   "outputs": [
    {
     "name": "stdout",
     "output_type": "stream",
     "text": [
      "first == Geeks\n",
      "mid == for\n",
      "last == Geeks\n"
     ]
    }
   ],
   "source": [
    "''' The special syntax **kwargs in function definitions in Python is used to pass a keyworded, variable-length argument list.'''\n",
    "\n",
    "def myFun(arg1, **kwargs):\n",
    "    for key, value in kwargs.items():\n",
    "        print(\"%s == %s\" % (key, value))\n",
    " \n",
    "myFun(\"Hi\", first='Geeks', mid='for', last='Geeks')"
   ]
  },
  {
   "cell_type": "markdown",
   "id": "4fdfaa82-3eec-4b93-9a35-01d1ffd6a289",
   "metadata": {},
   "source": [
    "Q3.  What is an iterator in python? Name the method used to initialise the iterator object and the method\n",
    "used for iteration. Use these methods to print the first five elements of the given list [2, 4, 6, 8, 10, 12, 14,\n",
    "16, 18, 20]."
   ]
  },
  {
   "cell_type": "code",
   "execution_count": 16,
   "id": "6a080fd9-8a82-4dec-a759-383eff69104f",
   "metadata": {},
   "outputs": [
    {
     "name": "stdout",
     "output_type": "stream",
     "text": [
      "2\n",
      "4\n",
      "6\n",
      "8\n",
      "10\n"
     ]
    }
   ],
   "source": [
    "''' iterator is an object which can be in the form of integers, characters, etc. iter() --> is used for iteration'''\n",
    "a = [2,4,6,8,10,12,14,16,18,20]\n",
    "s = iter(a)\n",
    "print(next(s))\n",
    "print(next(s))\n",
    "print(next(s))\n",
    "print(next(s))\n",
    "print(next(s))\n"
   ]
  },
  {
   "cell_type": "markdown",
   "id": "1fc23b2f-5f34-4451-8cb5-2080eb104082",
   "metadata": {},
   "source": [
    "Q4.  What is a generator function in python? Why yield keyword is used? Give an example of a generator\n",
    "function."
   ]
  },
  {
   "cell_type": "code",
   "execution_count": 20,
   "id": "1da785d2-b6f7-4de2-8fd9-18d0651f9bf9",
   "metadata": {},
   "outputs": [
    {
     "name": "stdout",
     "output_type": "stream",
     "text": [
      "0\n",
      "1\n",
      "2\n"
     ]
    }
   ],
   "source": [
    "''' In Python, a generator is a function that returns an iterator that produces a sequence of values when iterated over.'''\n",
    "''' The yeild keyword is used to produce a value from a generator. '''\n",
    "def my_generator(n):\n",
    "\n",
    "    value = 0\n",
    "\n",
    "    while value < n:\n",
    "\n",
    "        yield value\n",
    "\n",
    "     \n",
    "        value += 1\n",
    "\n",
    "for value in my_generator(3):\n",
    "\n",
    "    print(value)"
   ]
  },
  {
   "cell_type": "markdown",
   "id": "e2219c86-5286-487c-b147-68e424655b70",
   "metadata": {},
   "source": [
    "Q5. Create a generator function for prime numbers less than 1000. Use the next() method to print the\n",
    "first 20 prime numbers."
   ]
  },
  {
   "cell_type": "code",
   "execution_count": 24,
   "id": "0858ff2b-4a20-482e-b817-69d2197d3f12",
   "metadata": {},
   "outputs": [
    {
     "name": "stdout",
     "output_type": "stream",
     "text": [
      "1000 is not a prime number\n"
     ]
    }
   ],
   "source": [
    "# Program to check if a number is prime or not\n",
    "\n",
    "def myfun(num):\n",
    "\n",
    "# To take input from the user\n",
    "#num = int(input(\"Enter a number: \"))\n",
    "\n",
    "# define a flag variable\n",
    "    flag = False\n",
    "\n",
    "    if num == 1:\n",
    "        print(num, \"is not a prime number\")\n",
    "    elif num > 1:\n",
    "        # check for factors\n",
    "        for i in range(2, num):\n",
    "            if (num % i) == 0:\n",
    "                # if factor is found, set flag to True\n",
    "                flag = True\n",
    "                # break out of loop\n",
    "                break\n",
    "\n",
    "        # check if flag is True\n",
    "        if flag:\n",
    "            print(num, \"is not a prime number\")\n",
    "        else:\n",
    "            print(num, \"is a prime number\")\n",
    "myfun(1000)"
   ]
  },
  {
   "cell_type": "markdown",
   "id": "4952a284-100e-4bb7-b1c3-79221f4b2556",
   "metadata": {},
   "source": [
    "Q6. Write a python program to print the first 10 Fibonacci numbers using a while loop."
   ]
  },
  {
   "cell_type": "code",
   "execution_count": null,
   "id": "053a46a0-11a9-4946-b201-2cd4474ceada",
   "metadata": {},
   "outputs": [],
   "source": [
    "def fibonacci(n):\n",
    "    # First two numbers in the series\n",
    "    num1, num2 = 0, 1\n",
    "    \n",
    "    # Check if the input is valid\n",
    "    if n <= 0:\n",
    "        print(\"Invalid input. Please enter a positive integer.\")\n",
    "        return\n",
    "    \n",
    "    # Special case for the first Fibonacci number\n",
    "    if n == 1:\n",
    "        print(num1)\n",
    "        return\n",
    "    \n",
    "    # Print the first two numbers\n",
    "    print(num1, num2, end=\" \")\n",
    "    \n",
    "    # Generate the Fibonacci series\n",
    "    count = 2\n",
    "    while count < n:\n",
    "        next_num = num1 + num2\n",
    "        print(next_num, end=\" \")\n",
    "        \n",
    "        # Update the variables for the next iteration\n",
    "        num1 = num2\n",
    "        num2 = next_num\n",
    "        count += 1\n",
    "\n",
    "# Take input from the user\n",
    "terms = int(input(\"Enter the number of terms: \"))\n",
    "\n",
    "# Call the Fibonacci function\n",
    "fibonacci(terms)    "
   ]
  },
  {
   "cell_type": "markdown",
   "id": "f973958e-39e2-4349-a60a-c9983e73d0d7",
   "metadata": {},
   "source": [
    "Q7. Write a List Comprehension to iterate through the given string: ‘pwskills’.\n",
    "\n",
    "Expected output: ['p', 'w', 's', 'k', 'i', 'l', 'l', 's'] "
   ]
  },
  {
   "cell_type": "code",
   "execution_count": null,
   "id": "ae8c3873-0f87-48aa-99e6-84e00388b350",
   "metadata": {},
   "outputs": [],
   "source": [
    "l1 = []\n",
    "\n",
    "for i in \"pwskills\":\n",
    "    l1.append(i)\n",
    "print(l1)"
   ]
  },
  {
   "cell_type": "markdown",
   "id": "65551c73-9d2d-40e0-86fc-cfb23d9292f6",
   "metadata": {},
   "source": [
    "Q8. Write a python program to check whether a given number is Palindrome or not using a while loop."
   ]
  },
  {
   "cell_type": "code",
   "execution_count": null,
   "id": "4e7bfb7a-5337-48c0-8779-340750cdcb69",
   "metadata": {},
   "outputs": [],
   "source": [
    "number=int(input(\"Enter any number :\"))\n",
    "#store a copy of this number\n",
    "temp=number\n",
    "#calculate reverse of this number\n",
    "reverse_num=0\n",
    "while(number>0):\n",
    "    #extract last digit of this number\n",
    "    digit=number%10\n",
    "    #append this digit in reveresed number\n",
    "    reverse_num=reverse_num*10+digit\n",
    "    #floor divide the number leave out the last digit from number\n",
    "    number=number//10\n",
    "#compare reverse to original number\n",
    "if(temp==reverse_num):\n",
    "    print(\"The number is palindrome!\")\n",
    "else:\n",
    "    print(\"Not a palindrome!\")"
   ]
  },
  {
   "cell_type": "markdown",
   "id": "e5fa88f3-2c2a-4ed3-8eda-79d40eddcbb0",
   "metadata": {},
   "source": [
    "Q9. Write a code to print odd numbers from 1 to 100 using list comprehension.\n",
    "\n",
    "Note: Use a list comprehension to create a list from 1 to 100 and use another List comprehension to filter\n",
    "out odd numbers."
   ]
  },
  {
   "cell_type": "code",
   "execution_count": null,
   "id": "e9bd5343-c025-4625-b78b-ba0cb2077be0",
   "metadata": {},
   "outputs": [],
   "source": [
    "odd_numbers = [num for num in range(1, 101) if num % 2 != 0]\n",
    "print(odd_numbers)"
   ]
  }
 ],
 "metadata": {
  "kernelspec": {
   "display_name": "Python 3 (ipykernel)",
   "language": "python",
   "name": "python3"
  },
  "language_info": {
   "codemirror_mode": {
    "name": "ipython",
    "version": 3
   },
   "file_extension": ".py",
   "mimetype": "text/x-python",
   "name": "python",
   "nbconvert_exporter": "python",
   "pygments_lexer": "ipython3",
   "version": "3.10.8"
  }
 },
 "nbformat": 4,
 "nbformat_minor": 5
}
